{
 "cells": [
  {
   "cell_type": "markdown",
   "metadata": {},
   "source": [
    "# <center>**Predicting Bike Sharing Demand with Machine Learning**\n",
    "### **<center>Purwadhika Capstone 3 - Machine Learning | Created by: S. Fabilia<center>**"
   ]
  },
  {
   "cell_type": "markdown",
   "metadata": {},
   "source": [
    "\n",
    "\n",
    "---"
   ]
  },
  {
   "cell_type": "markdown",
   "metadata": {},
   "source": [
    "**TABLE OF CONTENTS**\n",
    "<br>\n",
    "1. Business Understanding\n",
    "<br>\n",
    "1.1. Background\n",
    "<br>\n",
    "1.2. Business Scenario\n",
    "<br>\n",
    "1.3. Problem Statement\n",
    "<br>\n",
    "1.4. Goals\n",
    "<br>\n",
    "1.5. Analytic Approach\n",
    "<br>\n",
    "1.6. Modelling\n",
    "<br>\n",
    "1.7. Evaluation Metrics\n",
    "<br>\n",
    "2. Data Understanding\n",
    "<br>\n",
    "2.1. Column Description\n",
    "<br>\n",
    "2.2. Import Libraries\n",
    "<br>\n",
    "2.3. Load Dataset\n",
    "<br>\n",
    "2.4. EDA\n",
    "<br>\n",
    "2.5. Data Correlation\n",
    "3. Data Preprocessing\n",
    "<br>\n",
    "3.1. Data Transformation\n",
    "<br>\n",
    "3.2. Descriptive Statistics\n",
    "<br>\n",
    "3.3. Duplicate Data\n",
    "<br>\n",
    "3.4. Missing Data\n",
    "<br>\n",
    "3.5. Abnormal Data & Outliers\n",
    "4. Bike Demand Prediction\n",
    "<br>\n",
    "4.1. Data Splitting (Train/Test Split)\n",
    "<br>\n",
    "4.2. Data Scaling (Normalization/Standardization)\n",
    "<br>\n",
    "4.3. Machine Learning Modeling\n",
    "<br>\n",
    "4.4. Model Evaluation\n",
    "<br>\n",
    "4.5. Hyperparameter Tuning\n",
    "5. Deployment\n",
    "<br>\n",
    "5.1. Save Model\n",
    "<br>\n",
    "5.2. Model Inference Example\n",
    "6. Final Thoughts\n",
    "<br>\n",
    "6.1. Conclusion\n",
    "<br>\n",
    "6.2. Recommendation\n",
    "<br>\n",
    "6.3. Limitations\n",
    "<br>\n",
    "6.4. Future Work"
   ]
  },
  {
   "cell_type": "markdown",
   "metadata": {},
   "source": [
    "---\n",
    "## **1. Business Understanding**"
   ]
  },
  {
   "cell_type": "markdown",
   "metadata": {},
   "source": [
    "### **1.1. Background**"
   ]
  },
  {
   "cell_type": "markdown",
   "metadata": {},
   "source": [
    "<center><img src=\"IMG_9300-scaled.jpg\" width=\"700\" height=\"425\"></center>\n",
    "<center>Figure 1.1. An Example of a Bike Sharing Provider</center>"
   ]
  },
  {
   "cell_type": "markdown",
   "metadata": {},
   "source": [
    "**Bike sharing is a transportation system where bicycles are made available for shared use to individuals on a short-term basis**. Users can rent a bike from one location and return it to another, offering a flexible and convenient alternative to traditional bike rentals. These systems are typically automated, allowing for easy membership registration, bike rental, and return through kiosks or mobile apps. Bike sharing are said to help reduce traffic congestion [(Hamilton & Wichman, 2018)](https://scholarship.richmond.edu/economics-faculty-publications/57/?utm_source=scholarship.richmond.edu/economics-faculty-publications/57&utm_medium=PDF&utm_campaign=PDFCoverPages), lower carbon emissions [(Li et al., 2022)](https://www.landecon.cam.ac.uk/sites/default/files/2023-05/crerc_2022-08_wp_compressed.pdf), and promote healthier lifestyles [(Chen et al., 2023)](https://www.sciencedirect.com/science/article/pii/S2214140523000476)."
   ]
  },
  {
   "cell_type": "markdown",
   "metadata": {},
   "source": [
    "<center><img src=\"discarded-chinese-dockless-bike-share-1511962262.jpg\" width=\"700\" height=\"350\"></center>\n",
    "<center> Figure 1.2. An Example of a Bicycle Graveyard</center>"
   ]
  },
  {
   "cell_type": "markdown",
   "metadata": {},
   "source": [
    "Despite its eco-friendly claims, bike sharing has encountered significant environmental challenges. The rise and fall of numerous bike-sharing companies have resulted in **bicycle graveyards—vast lots filled with abandoned and discarded bikes**. These graveyards are stark reminders of the market oversaturation and rapid expansion without sustainable planning. This phenomenon can be as extreme as depicted in Figure 1.2, or as subtle as a stack of decaying bikes in a corner of a city. These abandoned bicycles are found worldwide, in places like [China](https://www.businessinsider.com/china-bike-graveyards-photos-2018-4), [Australia](https://www.2gb.com/podcast/bike-share-scheme-in-the-city-has-become-a-nightmare/), and [Indonesia](https://megapolitan.kompas.com/read/2022/11/25/16000071/bike-sharing-di-jakarta-terbengkalai-pengamat-karena-asal-bikin-agar).\n",
    "\n",
    "However, this does not spell the end for bike sharing. Some companies continue to operate, recognizing the importance of careful resource management and strategic planning to avoid waste and minimize environmental harm. This is where our scenario comes into play."
   ]
  },
  {
   "cell_type": "markdown",
   "metadata": {},
   "source": [
    "### **1.2. Business Scenario**"
   ]
  },
  {
   "cell_type": "markdown",
   "metadata": {},
   "source": [
    "**You are the owner of a bike-sharing company that has been operational since 2010.** You believe that your company must undergo a significant revamp in management and refurbishment of inventory. Many of your bikes have become broken or worn out over the years, prompting the need for replacements. To maintain the success and sustainability of your bike-sharing service, you have decided to invest in new bikes to replace the old and damaged ones. You are confident that this strategic move will help maintain the quality of your fleet and improve user satisfaction."
   ]
  },
  {
   "cell_type": "markdown",
   "metadata": {},
   "source": [
    "### **1.3. Problem Statement**"
   ]
  },
  {
   "cell_type": "markdown",
   "metadata": {},
   "source": [
    "**You are unsure of the optimal number of bikes to maintain in your inventory.** Avoiding oversupply is crucial to prevent wastage, while avoiding undersupply is essential to meet customer demand.\n",
    "\n",
    "Thus, you hired a data scientist to help your operational team solve this issue. **The data scientist is tasked to forecast the number of bike rentals for the upcoming year to ensure you have sufficient bikes in stock to meet demand.**\n",
    "\n",
    "Unfortunately, due to data loss from 2012 onwards, the data scientist is left with only the data from 2011-2012 to guide your decisions.\n",
    "\n",
    "This project aims to address the problems through these following questions:\n",
    "\n",
    "1. How can we ensure that our predictive model is good enough to be used?\n",
    "2. Based on our predictive model, what is the estimated number of bikes needed to meet the demand in a certain day with certain conditions?\n",
    "3. How do we determine if there's an oversupply or undersupply of bikes?\n",
    "4. Based on the dataset, what factors influence bike rental demand? How can the operational team utilize these findings?\n",
    "5. What actionable insights and recommendations can be derived to ensure that bikes are managed efficiently?"
   ]
  },
  {
   "cell_type": "markdown",
   "metadata": {},
   "source": [
    "### **1.4. Goals**"
   ]
  },
  {
   "cell_type": "markdown",
   "metadata": {},
   "source": [
    "Based on the problem statement above, our main objective is to **develop a predictive model to forecast the number of bike rentals using the provided dataset**. Aside from that, we will solve the problems using these following specific goals:\n",
    "\n",
    "1. Ensure that the predictive model achieves good evaluation metric scores, using MSE, MAE, and R2 as the goals.\n",
    "2. Estimate the number of bikes needed using the machine learning model.\n",
    "3. Determine if it's oversupply or undersupply.\n",
    "4. Identify and analyze the factors that influence bike rental demand.\n",
    "5. Recommend insights to make sure that bikes are managed efficiently."
   ]
  },
  {
   "cell_type": "markdown",
   "metadata": {},
   "source": [
    "### **1.5. Analytic Approach**"
   ]
  },
  {
   "cell_type": "markdown",
   "metadata": {},
   "source": [
    "The proposed analytical approach employs a **supervised machine learning method**, utilizing a **regression model** trained with historical data to produce predictions. This solution is designed to be an essential tool in the daily operations and strategic planning of bicycle rental systems, providing the data necessary for informed decision-making and responsiveness to the dynamics of urban bicycle demand. The flow of the approach are as follow:\n",
    "\n",
    "[insert graph showing how the flow goes (nanti kalau udah selesai)]\n"
   ]
  },
  {
   "cell_type": "markdown",
   "metadata": {},
   "source": [
    "### **1.6. Modelling**"
   ]
  },
  {
   "cell_type": "markdown",
   "metadata": {},
   "source": [
    "This project will try 5 different regression model, which are:\n",
    "| <center> Metric | <center> Definition |\n",
    "|--------|-------------|\n",
    "| [**Linear Regression**](https://scikit-learn.org/stable/modules/generated/sklearn.linear_model.LinearRegression.html) | This model fits a linear relationship to minimize the residual sum of squares between the observed and predicted targets, providing a straightforward interpretation of the influence of each variable. |\n",
    "| [**KNeighbors Regressor**](https://scikit-learn.org/stable/modules/generated/sklearn.neighbors.KNeighborsRegressor.html) | This model predicts targets based on the average of the nearest neighbors, capturing local patterns in the data that might be missed by global models |\n",
    "| [**Decision Tree Regressor**](https://scikit-learn.org/stable/modules/generated/sklearn.tree.DecisionTreeRegressor.html) | This model uses a tree structure to model decisions and their possible outcomes, allowing for non-linear relationships and easy interpretation of variable importance. |\n",
    "| [**Random Forest Regressor**](https://scikit-learn.org/stable/modules/generated/sklearn.ensemble.RandomForestRegressor.html) | This ensemble model fits multiple decision trees on sub-samples of the dataset and averages the results, improving accuracy and controlling over-fitting. |\n",
    "| [**XGBoost Regressor**](https://xgboost.readthedocs.io/en/stable/) | This optimized gradient boosting library efficiently implements machine learning algorithms, enhancing prediction accuracy through its robust handling of large datasets and regularization. |\n",
    "\n",
    "\n",
    "By comparing these models, we can identify the most suitable one for accurately predicting the number of bike rentals, thereby ensuring an optimal fleet size and compliance with the new policy.\n"
   ]
  },
  {
   "cell_type": "markdown",
   "metadata": {},
   "source": [
    "### **1.7. Evaluation Metric**"
   ]
  },
  {
   "cell_type": "markdown",
   "metadata": {},
   "source": [
    "On the other hand, this project will adapt 3 evaluation metrics to identify the best model, which are:\n",
    "| <center>Metric | <center>Definition |\n",
    "|--------|-------------|\n",
    "| [**Mean Absolute Error (MAE)**](https://www.sciencedirect.com/topics/engineering/mean-absolute-error) | This metric calculates the average absolute differences between the predicted and observed values, offering a straightforward measure of prediction accuracy that is less sensitive to outliers. |\n",
    "| [**Mean Absolute Percentage Error (MAPE)**](https://www.sciencedirect.com/science/article/pii/S0169207016000121?via%3Dihub) | This metric measures the average absolute percentage differences between predicted and observed values, providing a percentage-based measure of prediction accuracy that is easy to interpret and compare across different datasets. |\n",
    "| [**R-Squared (R²)**](https://www.ncl.ac.uk/webtemplate/ask-assets/external/maths-resources/statistics/regression-and-correlation/coefficient-of-determination-r-squared.html) | This metric represents the proportion of variance in the dependent variable that is predictable from the independent variables, offering an overall measure of model fit and explanatory power. |\n"
   ]
  },
  {
   "cell_type": "markdown",
   "metadata": {},
   "source": [
    "---\n",
    "## **2. Data Understanding**"
   ]
  },
  {
   "cell_type": "markdown",
   "metadata": {},
   "source": [
    "### **2.1. Dataset Description**"
   ]
  },
  {
   "cell_type": "markdown",
   "metadata": {},
   "source": [
    "The Bike Sharing Dataset comprises transactional information from a bike-sharing company. Each row in the dataset represents daily bike rental transactions, providing insights into customer rental behavior within the bike-sharing ecosystem, with considerations for weather conditions and membership status. The dataset descriptions are as follows:"
   ]
  },
  {
   "cell_type": "markdown",
   "metadata": {},
   "source": [
    "|No. | Column     | Description                                                                                                    |\n",
    "|----|------------|----------------------------------------------------------------------------------------------------------------|\n",
    "|1| dteday     | Date                                                                                                           |\n",
    "|2| season     | Season (1: winter, 2: spring, 3: summer, 4: fall)                                                              |\n",
    "|3| hr         | Hour (0 to 23)                                                                                                 |\n",
    "|4| holiday    | Holiday or not                                                                                                 |\n",
    "|5| temp       | Normalized temperature in Celsius. The values are derived via (t-tmin)/(tmax-tmin), tmin=-8, tmax=+39 (hourly) |\n",
    "|6| atemp      | Normalized feeling temperature in Celsius. The values are derived via (t-tmin)/(tmax-tmin), tmin=-16, tmax=+50 (hourly) |\n",
    "|7| hum        | Normalized humidity. The values are divided into 100 (max)                                                     |\n",
    "|8| casual     | Count of casual users                                                                                          |\n",
    "|9| registered | Count of registered users                                                                                      |\n",
    "|10| cnt        | Count of total rental bikes including both casual and registered                                               |\n",
    "|11| weathersit | 1: Clear, Few clouds, Partly cloudy, Partly cloudy <br> 2: Mist + Cloudy, Mist + Broken clouds, Mist + Few clouds, Mist <br> 3: Light Snow, Light Rain + Thunderstorm + Scattered clouds, Light Rain + Scattered clouds <br> 4: Heavy Rain + Ice Pallets + Thunderstorm + Mist, Snow + Fog |\n",
    "\n"
   ]
  },
  {
   "cell_type": "markdown",
   "metadata": {},
   "source": [
    "### **2.2. Data Setup**"
   ]
  },
  {
   "cell_type": "markdown",
   "metadata": {},
   "source": [
    "Before performing any operations on the data, it is essential to first import the necessary libraries and load the dataset."
   ]
  },
  {
   "cell_type": "markdown",
   "metadata": {},
   "source": [
    "#### **2.2.1 Importing Libraries**"
   ]
  },
  {
   "cell_type": "code",
   "execution_count": 173,
   "metadata": {},
   "outputs": [],
   "source": [
    "import numpy as np\n",
    "import warnings\n",
    "import pandas as pd\n",
    "import seaborn as sns\n",
    "import matplotlib.pyplot as plt\n",
    "\n",
    "from datetime import datetime\n",
    "from sklearn.model_selection import train_test_split, cross_val_score, KFold, RandomizedSearchCV\n",
    "from sklearn.preprocessing import OneHotEncoder, RobustScaler\n",
    "from sklearn.compose import ColumnTransformer\n",
    "from sklearn.pipeline import Pipeline\n",
    "from category_encoders import BinaryEncoder\n",
    "from sklearn.linear_model import LinearRegression\n",
    "from sklearn.neighbors import KNeighborsRegressor\n",
    "from sklearn.tree import DecisionTreeRegressor\n",
    "from sklearn.ensemble import RandomForestRegressor\n",
    "from xgboost import XGBRegressor\n",
    "from sklearn.metrics import mean_absolute_error, mean_absolute_percentage_error, r2_score\n",
    "\n",
    "pd.options.mode.chained_assignment = None\n",
    "warnings.filterwarnings(\"ignore\")"
   ]
  },
  {
   "cell_type": "markdown",
   "metadata": {},
   "source": [
    "#### **2.2.1 Load Dataset**"
   ]
  },
  {
   "cell_type": "code",
   "execution_count": 174,
   "metadata": {},
   "outputs": [
    {
     "data": {
      "text/html": [
       "<div>\n",
       "<style scoped>\n",
       "    .dataframe tbody tr th:only-of-type {\n",
       "        vertical-align: middle;\n",
       "    }\n",
       "\n",
       "    .dataframe tbody tr th {\n",
       "        vertical-align: top;\n",
       "    }\n",
       "\n",
       "    .dataframe thead th {\n",
       "        text-align: right;\n",
       "    }\n",
       "</style>\n",
       "<table border=\"1\" class=\"dataframe\">\n",
       "  <thead>\n",
       "    <tr style=\"text-align: right;\">\n",
       "      <th></th>\n",
       "      <th>dteday</th>\n",
       "      <th>hum</th>\n",
       "      <th>weathersit</th>\n",
       "      <th>holiday</th>\n",
       "      <th>season</th>\n",
       "      <th>atemp</th>\n",
       "      <th>temp</th>\n",
       "      <th>hr</th>\n",
       "      <th>casual</th>\n",
       "      <th>registered</th>\n",
       "      <th>cnt</th>\n",
       "    </tr>\n",
       "  </thead>\n",
       "  <tbody>\n",
       "    <tr>\n",
       "      <th>0</th>\n",
       "      <td>2011-12-09</td>\n",
       "      <td>0.62</td>\n",
       "      <td>1</td>\n",
       "      <td>0</td>\n",
       "      <td>4</td>\n",
       "      <td>0.3485</td>\n",
       "      <td>0.36</td>\n",
       "      <td>16</td>\n",
       "      <td>24</td>\n",
       "      <td>226</td>\n",
       "      <td>250</td>\n",
       "    </tr>\n",
       "    <tr>\n",
       "      <th>1</th>\n",
       "      <td>2012-06-17</td>\n",
       "      <td>0.64</td>\n",
       "      <td>1</td>\n",
       "      <td>0</td>\n",
       "      <td>2</td>\n",
       "      <td>0.5152</td>\n",
       "      <td>0.54</td>\n",
       "      <td>4</td>\n",
       "      <td>2</td>\n",
       "      <td>16</td>\n",
       "      <td>18</td>\n",
       "    </tr>\n",
       "    <tr>\n",
       "      <th>2</th>\n",
       "      <td>2011-06-15</td>\n",
       "      <td>0.53</td>\n",
       "      <td>1</td>\n",
       "      <td>0</td>\n",
       "      <td>2</td>\n",
       "      <td>0.6212</td>\n",
       "      <td>0.62</td>\n",
       "      <td>23</td>\n",
       "      <td>17</td>\n",
       "      <td>90</td>\n",
       "      <td>107</td>\n",
       "    </tr>\n",
       "    <tr>\n",
       "      <th>3</th>\n",
       "      <td>2012-03-31</td>\n",
       "      <td>0.87</td>\n",
       "      <td>2</td>\n",
       "      <td>0</td>\n",
       "      <td>2</td>\n",
       "      <td>0.3485</td>\n",
       "      <td>0.36</td>\n",
       "      <td>8</td>\n",
       "      <td>19</td>\n",
       "      <td>126</td>\n",
       "      <td>145</td>\n",
       "    </tr>\n",
       "    <tr>\n",
       "      <th>4</th>\n",
       "      <td>2012-07-31</td>\n",
       "      <td>0.55</td>\n",
       "      <td>1</td>\n",
       "      <td>0</td>\n",
       "      <td>3</td>\n",
       "      <td>0.6970</td>\n",
       "      <td>0.76</td>\n",
       "      <td>18</td>\n",
       "      <td>99</td>\n",
       "      <td>758</td>\n",
       "      <td>857</td>\n",
       "    </tr>\n",
       "    <tr>\n",
       "      <th>...</th>\n",
       "      <td>...</td>\n",
       "      <td>...</td>\n",
       "      <td>...</td>\n",
       "      <td>...</td>\n",
       "      <td>...</td>\n",
       "      <td>...</td>\n",
       "      <td>...</td>\n",
       "      <td>...</td>\n",
       "      <td>...</td>\n",
       "      <td>...</td>\n",
       "      <td>...</td>\n",
       "    </tr>\n",
       "    <tr>\n",
       "      <th>12160</th>\n",
       "      <td>2012-01-25</td>\n",
       "      <td>0.75</td>\n",
       "      <td>1</td>\n",
       "      <td>0</td>\n",
       "      <td>1</td>\n",
       "      <td>0.2273</td>\n",
       "      <td>0.24</td>\n",
       "      <td>7</td>\n",
       "      <td>14</td>\n",
       "      <td>243</td>\n",
       "      <td>257</td>\n",
       "    </tr>\n",
       "    <tr>\n",
       "      <th>12161</th>\n",
       "      <td>2012-07-06</td>\n",
       "      <td>0.62</td>\n",
       "      <td>1</td>\n",
       "      <td>0</td>\n",
       "      <td>3</td>\n",
       "      <td>0.7424</td>\n",
       "      <td>0.78</td>\n",
       "      <td>0</td>\n",
       "      <td>39</td>\n",
       "      <td>63</td>\n",
       "      <td>102</td>\n",
       "    </tr>\n",
       "    <tr>\n",
       "      <th>12162</th>\n",
       "      <td>2012-02-20</td>\n",
       "      <td>0.60</td>\n",
       "      <td>2</td>\n",
       "      <td>1</td>\n",
       "      <td>1</td>\n",
       "      <td>0.2121</td>\n",
       "      <td>0.24</td>\n",
       "      <td>5</td>\n",
       "      <td>0</td>\n",
       "      <td>6</td>\n",
       "      <td>6</td>\n",
       "    </tr>\n",
       "    <tr>\n",
       "      <th>12163</th>\n",
       "      <td>2012-03-31</td>\n",
       "      <td>0.77</td>\n",
       "      <td>2</td>\n",
       "      <td>0</td>\n",
       "      <td>2</td>\n",
       "      <td>0.4242</td>\n",
       "      <td>0.42</td>\n",
       "      <td>2</td>\n",
       "      <td>14</td>\n",
       "      <td>55</td>\n",
       "      <td>69</td>\n",
       "    </tr>\n",
       "    <tr>\n",
       "      <th>12164</th>\n",
       "      <td>2011-04-28</td>\n",
       "      <td>0.47</td>\n",
       "      <td>1</td>\n",
       "      <td>0</td>\n",
       "      <td>2</td>\n",
       "      <td>0.6212</td>\n",
       "      <td>0.64</td>\n",
       "      <td>18</td>\n",
       "      <td>44</td>\n",
       "      <td>486</td>\n",
       "      <td>530</td>\n",
       "    </tr>\n",
       "  </tbody>\n",
       "</table>\n",
       "<p>12165 rows × 11 columns</p>\n",
       "</div>"
      ],
      "text/plain": [
       "           dteday   hum  weathersit  holiday  season   atemp  temp  hr  \\\n",
       "0      2011-12-09  0.62           1        0       4  0.3485  0.36  16   \n",
       "1      2012-06-17  0.64           1        0       2  0.5152  0.54   4   \n",
       "2      2011-06-15  0.53           1        0       2  0.6212  0.62  23   \n",
       "3      2012-03-31  0.87           2        0       2  0.3485  0.36   8   \n",
       "4      2012-07-31  0.55           1        0       3  0.6970  0.76  18   \n",
       "...           ...   ...         ...      ...     ...     ...   ...  ..   \n",
       "12160  2012-01-25  0.75           1        0       1  0.2273  0.24   7   \n",
       "12161  2012-07-06  0.62           1        0       3  0.7424  0.78   0   \n",
       "12162  2012-02-20  0.60           2        1       1  0.2121  0.24   5   \n",
       "12163  2012-03-31  0.77           2        0       2  0.4242  0.42   2   \n",
       "12164  2011-04-28  0.47           1        0       2  0.6212  0.64  18   \n",
       "\n",
       "       casual  registered  cnt  \n",
       "0          24         226  250  \n",
       "1           2          16   18  \n",
       "2          17          90  107  \n",
       "3          19         126  145  \n",
       "4          99         758  857  \n",
       "...       ...         ...  ...  \n",
       "12160      14         243  257  \n",
       "12161      39          63  102  \n",
       "12162       0           6    6  \n",
       "12163      14          55   69  \n",
       "12164      44         486  530  \n",
       "\n",
       "[12165 rows x 11 columns]"
      ]
     },
     "execution_count": 174,
     "metadata": {},
     "output_type": "execute_result"
    }
   ],
   "source": [
    "df = pd.read_csv('data_bike_sharing.csv')\n",
    "df"
   ]
  },
  {
   "cell_type": "markdown",
   "metadata": {},
   "source": [
    "### **2.3. Dataset Check**"
   ]
  },
  {
   "cell_type": "code",
   "execution_count": 175,
   "metadata": {},
   "outputs": [
    {
     "name": "stdout",
     "output_type": "stream",
     "text": [
      "<class 'pandas.core.frame.DataFrame'>\n",
      "RangeIndex: 12165 entries, 0 to 12164\n",
      "Data columns (total 11 columns):\n",
      " #   Column      Non-Null Count  Dtype  \n",
      "---  ------      --------------  -----  \n",
      " 0   dteday      12165 non-null  object \n",
      " 1   hum         12165 non-null  float64\n",
      " 2   weathersit  12165 non-null  int64  \n",
      " 3   holiday     12165 non-null  int64  \n",
      " 4   season      12165 non-null  int64  \n",
      " 5   atemp       12165 non-null  float64\n",
      " 6   temp        12165 non-null  float64\n",
      " 7   hr          12165 non-null  int64  \n",
      " 8   casual      12165 non-null  int64  \n",
      " 9   registered  12165 non-null  int64  \n",
      " 10  cnt         12165 non-null  int64  \n",
      "dtypes: float64(3), int64(7), object(1)\n",
      "memory usage: 1.0+ MB\n"
     ]
    }
   ],
   "source": [
    "df.info()"
   ]
  },
  {
   "cell_type": "markdown",
   "metadata": {},
   "source": [
    "The **datatype** of the columns are: integer, object, and float.\n",
    "\n",
    "From df.info, we can conclude that the initial database have **12165 rows and 11 columns**.\n",
    "\n",
    "This can be validated by checking the shape of the dataset."
   ]
  },
  {
   "cell_type": "code",
   "execution_count": 176,
   "metadata": {},
   "outputs": [
    {
     "name": "stdout",
     "output_type": "stream",
     "text": [
      "Amount of Rows and Column: (12165, 11)\n"
     ]
    }
   ],
   "source": [
    "print('Amount of Rows and Column:',df.shape)"
   ]
  },
  {
   "cell_type": "markdown",
   "metadata": {},
   "source": [
    "We can also examine the date range within the dataset to understand the time period it covers."
   ]
  },
  {
   "cell_type": "code",
   "execution_count": 177,
   "metadata": {},
   "outputs": [
    {
     "data": {
      "text/html": [
       "<div>\n",
       "<style scoped>\n",
       "    .dataframe tbody tr th:only-of-type {\n",
       "        vertical-align: middle;\n",
       "    }\n",
       "\n",
       "    .dataframe tbody tr th {\n",
       "        vertical-align: top;\n",
       "    }\n",
       "\n",
       "    .dataframe thead th {\n",
       "        text-align: right;\n",
       "    }\n",
       "</style>\n",
       "<table border=\"1\" class=\"dataframe\">\n",
       "  <thead>\n",
       "    <tr style=\"text-align: right;\">\n",
       "      <th></th>\n",
       "      <th>dteday</th>\n",
       "    </tr>\n",
       "  </thead>\n",
       "  <tbody>\n",
       "    <tr>\n",
       "      <th>2514</th>\n",
       "      <td>2011-01-01</td>\n",
       "    </tr>\n",
       "  </tbody>\n",
       "</table>\n",
       "</div>"
      ],
      "text/plain": [
       "          dteday\n",
       "2514  2011-01-01"
      ]
     },
     "metadata": {},
     "output_type": "display_data"
    },
    {
     "data": {
      "text/html": [
       "<div>\n",
       "<style scoped>\n",
       "    .dataframe tbody tr th:only-of-type {\n",
       "        vertical-align: middle;\n",
       "    }\n",
       "\n",
       "    .dataframe tbody tr th {\n",
       "        vertical-align: top;\n",
       "    }\n",
       "\n",
       "    .dataframe thead th {\n",
       "        text-align: right;\n",
       "    }\n",
       "</style>\n",
       "<table border=\"1\" class=\"dataframe\">\n",
       "  <thead>\n",
       "    <tr style=\"text-align: right;\">\n",
       "      <th></th>\n",
       "      <th>dteday</th>\n",
       "    </tr>\n",
       "  </thead>\n",
       "  <tbody>\n",
       "    <tr>\n",
       "      <th>965</th>\n",
       "      <td>2012-12-31</td>\n",
       "    </tr>\n",
       "  </tbody>\n",
       "</table>\n",
       "</div>"
      ],
      "text/plain": [
       "         dteday\n",
       "965  2012-12-31"
      ]
     },
     "metadata": {},
     "output_type": "display_data"
    }
   ],
   "source": [
    "datasetDate = df.sort_values(by='dteday')\n",
    "display(datasetDate[['dteday']].head(1))\n",
    "display(datasetDate[['dteday']].tail(1))"
   ]
  },
  {
   "cell_type": "markdown",
   "metadata": {},
   "source": [
    "This means that the dataset contains dates ranging from **January 1, 2011, to December 31, 2012**."
   ]
  },
  {
   "cell_type": "markdown",
   "metadata": {},
   "source": [
    "### **2.4. Unique Values**"
   ]
  },
  {
   "cell_type": "markdown",
   "metadata": {},
   "source": [
    "After gaining an understanding of the dataset's contents, the next step is to get an overview of the unique values within it."
   ]
  },
  {
   "cell_type": "code",
   "execution_count": 178,
   "metadata": {},
   "outputs": [
    {
     "data": {
      "text/html": [
       "<div>\n",
       "<style scoped>\n",
       "    .dataframe tbody tr th:only-of-type {\n",
       "        vertical-align: middle;\n",
       "    }\n",
       "\n",
       "    .dataframe tbody tr th {\n",
       "        vertical-align: top;\n",
       "    }\n",
       "\n",
       "    .dataframe thead th {\n",
       "        text-align: right;\n",
       "    }\n",
       "</style>\n",
       "<table border=\"1\" class=\"dataframe\">\n",
       "  <thead>\n",
       "    <tr style=\"text-align: right;\">\n",
       "      <th></th>\n",
       "      <th>Column Name</th>\n",
       "      <th>Number of Unique Values</th>\n",
       "      <th>Sample of Unique Values</th>\n",
       "    </tr>\n",
       "  </thead>\n",
       "  <tbody>\n",
       "    <tr>\n",
       "      <th>0</th>\n",
       "      <td>dteday</td>\n",
       "      <td>731</td>\n",
       "      <td>[2011-12-09, 2012-06-17, 2011-06-15, 2012-03-31, 2012-07-31, 2012-10-01, 2012-08-28, 2012-01-01, 2011-10-13, 2012-06-09, 2011-06-28, 2011-12-21, 2012-01-31, 2012-02-07, 2012-05-15, 2011-01-04, 2012-02-27, 2012-08-21, 2011-02-13, 2012-07-09, 2012-12-18, 2011-06-07, 2012-09-26, 2012-08-20, 2011-02-17, 2012-05-08, 2012-06-26, 2011-09-02, 2011-03-29, 2012-06-16, 2011-09-17, 2011-07-10, 2011-02-02, 2012-09-23, 2011-02-25, 2011-03-12, 2011-05-09, 2012-08-26, 2011-03-31, 2012-03-22, 2012-08-24, 2012-05-31, 2012-09-08, 2011-06-25, 2011-10-09, 2011-05-05, 2012-05-14, 2012-07-22, 2011-04-02, 2012-02-04, 2012-10-22, 2012-02-23, 2012-03-08, 2011-07-23, 2012-01-17, 2012-06-22, 2012-10-06, 2012-10-15, 2011-04-07, 2012-01-03, 2011-07-18, 2011-10-19, 2011-12-26, 2011-08-10, 2011-11-07, 2012-12-17, 2012-03-02, 2011-02-26, 2011-08-22, 2011-03-02, 2012-01-28, 2011-10-16, 2011-12-02, 2012-02-18, 2012-11-16, 2011-11-06, 2012-05-18, 2011-04-22, 2011-01-30, 2011-08-06, 2011-07-30, 2011-01-28, 2011-02-18,...</td>\n",
       "    </tr>\n",
       "    <tr>\n",
       "      <th>1</th>\n",
       "      <td>hum</td>\n",
       "      <td>89</td>\n",
       "      <td>[0.62, 0.64, 0.53, 0.87, 0.55, 0.72, 0.54, 0.93, 1.0, 0.24, 0.78, 0.6, 0.38, 0.52, 0.8, 0.37, 0.3, 0.83, 0.94, 0.61, 0.73, 0.35, 0.41, 0.74, 0.49, 0.33, 0.44, 0.77, 0.89, 0.88, 0.66, 0.7, 0.71, 0.63, 0.57, 0.43, 0.39, 0.45, 0.48, 0.5, 0.34, 0.19, 0.36, 0.65, 0.81, 0.79, 0.27, 0.29, 0.67, 0.75, 0.76, 0.31, 0.4, 0.28, 0.69, 0.08, 0.32, 0.51, 0.46, 0.59, 0.58, 0.23, 0.84, 0.82, 0.47, 0.18, 0.25, 0.42, 0.86, 0.0, 0.68, 0.56, 0.16, 0.21, 0.97, 0.85, 0.26, 0.22, 0.2, 0.17, 0.1, 0.15, 0.13, 0.9, 0.92, 0.96, 0.91, 0.12, 0.14]</td>\n",
       "    </tr>\n",
       "    <tr>\n",
       "      <th>2</th>\n",
       "      <td>weathersit</td>\n",
       "      <td>4</td>\n",
       "      <td>[1, 2, 3, 4]</td>\n",
       "    </tr>\n",
       "    <tr>\n",
       "      <th>3</th>\n",
       "      <td>holiday</td>\n",
       "      <td>2</td>\n",
       "      <td>[0, 1]</td>\n",
       "    </tr>\n",
       "    <tr>\n",
       "      <th>4</th>\n",
       "      <td>season</td>\n",
       "      <td>4</td>\n",
       "      <td>[4, 2, 3, 1]</td>\n",
       "    </tr>\n",
       "    <tr>\n",
       "      <th>5</th>\n",
       "      <td>atemp</td>\n",
       "      <td>65</td>\n",
       "      <td>[0.3485, 0.5152, 0.6212, 0.697, 0.4545, 0.6515, 0.2727, 0.6061, 0.4394, 0.2576, 0.5455, 0.2273, 0.6667, 0.4091, 0.3939, 0.6364, 0.5303, 0.5, 0.3636, 0.7424, 0.3333, 0.4242, 0.5758, 0.4697, 0.5909, 0.7576, 0.6818, 0.303, 0.7727, 0.1212, 0.803, 0.3182, 0.2121, 0.7879, 0.197, 0.1515, 0.4848, 0.1818, 0.3788, 0.0909, 0.2879, 0.2424, 0.5606, 0.1667, 0.7121, 0.7273, 0.0303, 0.8333, 0.8636, 0.8788, 0.1364, 0.1061, 0.8485, 0.8182, 0.0455, 0.8939, 0.9242, 0.0152, 0.0758, 0.0606, 0.9545, 0.9091, 0.0, 1.0, 0.9848]</td>\n",
       "    </tr>\n",
       "    <tr>\n",
       "      <th>6</th>\n",
       "      <td>temp</td>\n",
       "      <td>50</td>\n",
       "      <td>[0.36, 0.54, 0.62, 0.76, 0.46, 0.7, 0.26, 0.82, 0.66, 0.44, 0.58, 0.28, 0.22, 0.4, 0.38, 0.68, 0.56, 0.72, 0.52, 0.6, 0.34, 0.42, 0.64, 0.24, 0.48, 0.8, 0.32, 0.16, 0.74, 0.88, 0.3, 0.14, 0.9, 0.18, 0.06, 0.2, 0.5, 0.08, 0.78, 0.84, 0.04, 0.86, 0.12, 0.94, 0.1, 0.92, 0.96, 0.02, 0.98, 1.0]</td>\n",
       "    </tr>\n",
       "    <tr>\n",
       "      <th>7</th>\n",
       "      <td>hr</td>\n",
       "      <td>24</td>\n",
       "      <td>[16, 4, 23, 8, 18, 0, 22, 9, 5, 7, 14, 15, 21, 20, 11, 3, 13, 19, 6, 12, 1, 2, 10, 17]</td>\n",
       "    </tr>\n",
       "    <tr>\n",
       "      <th>8</th>\n",
       "      <td>casual</td>\n",
       "      <td>305</td>\n",
       "      <td>[24, 2, 17, 19, 99, 6, 20, 13, 219, 1, 11, 9, 0, 110, 51, 7, 10, 45, 30, 87, 5, 15, 60, 49, 122, 254, 81, 80, 220, 46, 36, 14, 3, 48, 31, 310, 32, 72, 26, 21, 142, 245, 16, 8, 58, 126, 47, 62, 12, 93, 27, 74, 28, 55, 50, 132, 68, 75, 29, 18, 168, 57, 61, 283, 148, 43, 4, 138, 264, 71, 121, 41, 186, 44, 39, 237, 225, 226, 224, 118, 22, 170, 162, 35, 54, 84, 200, 116, 117, 38, 53, 65, 37, 25, 196, 78, 113, 66, 33, 253, ...]</td>\n",
       "    </tr>\n",
       "    <tr>\n",
       "      <th>9</th>\n",
       "      <td>registered</td>\n",
       "      <td>742</td>\n",
       "      <td>[226, 16, 90, 126, 758, 39, 196, 27, 5, 315, 20, 278, 273, 127, 74, 48, 192, 110, 223, 652, 432, 808, 188, 119, 32, 157, 118, 141, 49, 134, 21, 227, 437, 50, 101, 23, 212, 1, 142, 171, 474, 8, 83, 233, 155, 370, 41, 43, 4, 88, 156, 99, 169, 400, 237, 7, 72, 59, 109, 228, 17, 148, 6, 26, 73, 100, 247, 91, 293, 95, 222, 383, 168, 79, 176, 146, 216, 369, 220, 22, 338, 3, 11, 123, 180, 112, 42, 181, 618, 209, 374, 467, 128, 179, 67, 104, 33, 413, 14, 19, ...]</td>\n",
       "    </tr>\n",
       "    <tr>\n",
       "      <th>10</th>\n",
       "      <td>cnt</td>\n",
       "      <td>830</td>\n",
       "      <td>[250, 18, 107, 145, 857, 45, 216, 40, 7, 534, 21, 280, 279, 138, 83, 65, 16, 302, 161, 230, 662, 477, 838, 275, 124, 47, 217, 131, 192, 55, 183, 28, 349, 75, 691, 182, 23, 292, 1, 34, 151, 178, 694, 14, 129, 269, 156, 624, 43, 5, 91, 204, 61, 130, 180, 202, 710, 256, 79, 123, 300, 19, 8, 78, 126, 268, 110, 373, 147, 102, 364, 628, 116, 137, 162, 263, 376, 282, 350, 30, 136, 273, 2, 115, 208, 698, 258, 448, 100, 261, 522, 311, 76, 117, 36, 481, 22, 26, 77, 157, ...]</td>\n",
       "    </tr>\n",
       "  </tbody>\n",
       "</table>\n",
       "</div>"
      ],
      "text/plain": [
       "   Column Name  Number of Unique Values  \\\n",
       "0       dteday                      731   \n",
       "1          hum                       89   \n",
       "2   weathersit                        4   \n",
       "3      holiday                        2   \n",
       "4       season                        4   \n",
       "5        atemp                       65   \n",
       "6         temp                       50   \n",
       "7           hr                       24   \n",
       "8       casual                      305   \n",
       "9   registered                      742   \n",
       "10         cnt                      830   \n",
       "\n",
       "                                                                                                                                                                                                                                                                                                                                                                                                                                                                                                                                                                                                                                                                                                                                                                                                                                                                                                                                                                                                                    Sample of Unique Values  \n",
       "0   [2011-12-09, 2012-06-17, 2011-06-15, 2012-03-31, 2012-07-31, 2012-10-01, 2012-08-28, 2012-01-01, 2011-10-13, 2012-06-09, 2011-06-28, 2011-12-21, 2012-01-31, 2012-02-07, 2012-05-15, 2011-01-04, 2012-02-27, 2012-08-21, 2011-02-13, 2012-07-09, 2012-12-18, 2011-06-07, 2012-09-26, 2012-08-20, 2011-02-17, 2012-05-08, 2012-06-26, 2011-09-02, 2011-03-29, 2012-06-16, 2011-09-17, 2011-07-10, 2011-02-02, 2012-09-23, 2011-02-25, 2011-03-12, 2011-05-09, 2012-08-26, 2011-03-31, 2012-03-22, 2012-08-24, 2012-05-31, 2012-09-08, 2011-06-25, 2011-10-09, 2011-05-05, 2012-05-14, 2012-07-22, 2011-04-02, 2012-02-04, 2012-10-22, 2012-02-23, 2012-03-08, 2011-07-23, 2012-01-17, 2012-06-22, 2012-10-06, 2012-10-15, 2011-04-07, 2012-01-03, 2011-07-18, 2011-10-19, 2011-12-26, 2011-08-10, 2011-11-07, 2012-12-17, 2012-03-02, 2011-02-26, 2011-08-22, 2011-03-02, 2012-01-28, 2011-10-16, 2011-12-02, 2012-02-18, 2012-11-16, 2011-11-06, 2012-05-18, 2011-04-22, 2011-01-30, 2011-08-06, 2011-07-30, 2011-01-28, 2011-02-18,...  \n",
       "1                                                                                                                                                                                                                                                                                                                                                                                                                                                                                               [0.62, 0.64, 0.53, 0.87, 0.55, 0.72, 0.54, 0.93, 1.0, 0.24, 0.78, 0.6, 0.38, 0.52, 0.8, 0.37, 0.3, 0.83, 0.94, 0.61, 0.73, 0.35, 0.41, 0.74, 0.49, 0.33, 0.44, 0.77, 0.89, 0.88, 0.66, 0.7, 0.71, 0.63, 0.57, 0.43, 0.39, 0.45, 0.48, 0.5, 0.34, 0.19, 0.36, 0.65, 0.81, 0.79, 0.27, 0.29, 0.67, 0.75, 0.76, 0.31, 0.4, 0.28, 0.69, 0.08, 0.32, 0.51, 0.46, 0.59, 0.58, 0.23, 0.84, 0.82, 0.47, 0.18, 0.25, 0.42, 0.86, 0.0, 0.68, 0.56, 0.16, 0.21, 0.97, 0.85, 0.26, 0.22, 0.2, 0.17, 0.1, 0.15, 0.13, 0.9, 0.92, 0.96, 0.91, 0.12, 0.14]  \n",
       "2                                                                                                                                                                                                                                                                                                                                                                                                                                                                                                                                                                                                                                                                                                                                                                                                                                                                                                                                                                                                                              [1, 2, 3, 4]  \n",
       "3                                                                                                                                                                                                                                                                                                                                                                                                                                                                                                                                                                                                                                                                                                                                                                                                                                                                                                                                                                                                                                    [0, 1]  \n",
       "4                                                                                                                                                                                                                                                                                                                                                                                                                                                                                                                                                                                                                                                                                                                                                                                                                                                                                                                                                                                                                              [4, 2, 3, 1]  \n",
       "5                                                                                                                                                                                                                                                                                                                                                                                                                                                                                                               [0.3485, 0.5152, 0.6212, 0.697, 0.4545, 0.6515, 0.2727, 0.6061, 0.4394, 0.2576, 0.5455, 0.2273, 0.6667, 0.4091, 0.3939, 0.6364, 0.5303, 0.5, 0.3636, 0.7424, 0.3333, 0.4242, 0.5758, 0.4697, 0.5909, 0.7576, 0.6818, 0.303, 0.7727, 0.1212, 0.803, 0.3182, 0.2121, 0.7879, 0.197, 0.1515, 0.4848, 0.1818, 0.3788, 0.0909, 0.2879, 0.2424, 0.5606, 0.1667, 0.7121, 0.7273, 0.0303, 0.8333, 0.8636, 0.8788, 0.1364, 0.1061, 0.8485, 0.8182, 0.0455, 0.8939, 0.9242, 0.0152, 0.0758, 0.0606, 0.9545, 0.9091, 0.0, 1.0, 0.9848]  \n",
       "6                                                                                                                                                                                                                                                                                                                                                                                                                                                                                                                                                                                                                                                                                                                                        [0.36, 0.54, 0.62, 0.76, 0.46, 0.7, 0.26, 0.82, 0.66, 0.44, 0.58, 0.28, 0.22, 0.4, 0.38, 0.68, 0.56, 0.72, 0.52, 0.6, 0.34, 0.42, 0.64, 0.24, 0.48, 0.8, 0.32, 0.16, 0.74, 0.88, 0.3, 0.14, 0.9, 0.18, 0.06, 0.2, 0.5, 0.08, 0.78, 0.84, 0.04, 0.86, 0.12, 0.94, 0.1, 0.92, 0.96, 0.02, 0.98, 1.0]  \n",
       "7                                                                                                                                                                                                                                                                                                                                                                                                                                                                                                                                                                                                                                                                                                                                                                                                                                                                                                                                                    [16, 4, 23, 8, 18, 0, 22, 9, 5, 7, 14, 15, 21, 20, 11, 3, 13, 19, 6, 12, 1, 2, 10, 17]  \n",
       "8                                                                                                                                                                                                                                                                                                                                                                                                                                                                                                                                                                                                 [24, 2, 17, 19, 99, 6, 20, 13, 219, 1, 11, 9, 0, 110, 51, 7, 10, 45, 30, 87, 5, 15, 60, 49, 122, 254, 81, 80, 220, 46, 36, 14, 3, 48, 31, 310, 32, 72, 26, 21, 142, 245, 16, 8, 58, 126, 47, 62, 12, 93, 27, 74, 28, 55, 50, 132, 68, 75, 29, 18, 168, 57, 61, 283, 148, 43, 4, 138, 264, 71, 121, 41, 186, 44, 39, 237, 225, 226, 224, 118, 22, 170, 162, 35, 54, 84, 200, 116, 117, 38, 53, 65, 37, 25, 196, 78, 113, 66, 33, 253, ...]  \n",
       "9                                                                                                                                                                                                                                                                                                                                                                                                                                                                                                                                                               [226, 16, 90, 126, 758, 39, 196, 27, 5, 315, 20, 278, 273, 127, 74, 48, 192, 110, 223, 652, 432, 808, 188, 119, 32, 157, 118, 141, 49, 134, 21, 227, 437, 50, 101, 23, 212, 1, 142, 171, 474, 8, 83, 233, 155, 370, 41, 43, 4, 88, 156, 99, 169, 400, 237, 7, 72, 59, 109, 228, 17, 148, 6, 26, 73, 100, 247, 91, 293, 95, 222, 383, 168, 79, 176, 146, 216, 369, 220, 22, 338, 3, 11, 123, 180, 112, 42, 181, 618, 209, 374, 467, 128, 179, 67, 104, 33, 413, 14, 19, ...]  \n",
       "10                                                                                                                                                                                                                                                                                                                                                                                                                                                                                                                                                    [250, 18, 107, 145, 857, 45, 216, 40, 7, 534, 21, 280, 279, 138, 83, 65, 16, 302, 161, 230, 662, 477, 838, 275, 124, 47, 217, 131, 192, 55, 183, 28, 349, 75, 691, 182, 23, 292, 1, 34, 151, 178, 694, 14, 129, 269, 156, 624, 43, 5, 91, 204, 61, 130, 180, 202, 710, 256, 79, 123, 300, 19, 8, 78, 126, 268, 110, 373, 147, 102, 364, 628, 116, 137, 162, 263, 376, 282, 350, 30, 136, 273, 2, 115, 208, 698, 258, 448, 100, 261, 522, 311, 76, 117, 36, 481, 22, 26, 77, 157, ...]  "
      ]
     },
     "execution_count": 178,
     "metadata": {},
     "output_type": "execute_result"
    }
   ],
   "source": [
    "pd.set_option('display.max_colwidth',1000)\n",
    "listItem = []\n",
    "\n",
    "for col in df.columns :\n",
    "    listItem.append( [col, df[col].nunique(), df[col].unique()])\n",
    "\n",
    "tabel1Desc = pd.DataFrame(columns=['Column Name', 'Number of Unique Values', 'Sample of Unique Values'],\n",
    "                     data=listItem)\n",
    "tabel1Desc"
   ]
  },
  {
   "cell_type": "markdown",
   "metadata": {},
   "source": [
    "### **2.4. Duplicate Data**"
   ]
  },
  {
   "cell_type": "markdown",
   "metadata": {},
   "source": [
    "It's crucial to check for duplicates as they can significantly impact the outcome of the analysis."
   ]
  },
  {
   "cell_type": "code",
   "execution_count": 179,
   "metadata": {},
   "outputs": [
    {
     "name": "stdout",
     "output_type": "stream",
     "text": [
      "No duplicate records found in the dataset.\n"
     ]
    }
   ],
   "source": [
    "if df.duplicated().any():\n",
    "    print(\"There are duplicate records in the dataset.\")\n",
    "else:\n",
    "    print(\"No duplicate records found in the dataset.\")"
   ]
  },
  {
   "cell_type": "markdown",
   "metadata": {},
   "source": [
    "This means we don't need to do anything with the duplicate data."
   ]
  },
  {
   "cell_type": "markdown",
   "metadata": {},
   "source": [
    "### **2.5. Missing Data**"
   ]
  },
  {
   "cell_type": "markdown",
   "metadata": {},
   "source": [
    "Each column **doesn't have any null values**, as indicated by the non-null count matching the number of rows (as shown by df.info()). This means there is no need to fill in any missing values.\n",
    "\n",
    "This can be further confirmed by using the *isnull* method."
   ]
  },
  {
   "cell_type": "code",
   "execution_count": 180,
   "metadata": {},
   "outputs": [
    {
     "name": "stdout",
     "output_type": "stream",
     "text": [
      "No missing values found in the dataset.\n"
     ]
    }
   ],
   "source": [
    "if df.isnull().any().any():\n",
    "    print(\"There are missing values in the dataset.\")\n",
    "else:\n",
    "    print(\"No missing values found in the dataset.\")"
   ]
  },
  {
   "cell_type": "markdown",
   "metadata": {},
   "source": [
    "### **2.6. Data in Business Context**"
   ]
  },
  {
   "cell_type": "markdown",
   "metadata": {},
   "source": [
    "So, what does each column have to do with our business?\n",
    "<br>\n",
    "1. Date, Time, and Season (dteday, season): These are essential for analyzing trends and seasonal patterns in bicycle rentals.\n",
    "2. Weather Conditions (weathersit, temp, atemp, hum): These factors can influence people's decisions to rent bicycles.\n",
    "3. User Type (casual, registered): Usage patterns between regular customers and occasional users can be used for marketing and operational strategies.\n",
    "4. cnt: This is the primary target for forecasting, as the ultimate goal of this project is to estimate bike demand."
   ]
  },
  {
   "cell_type": "markdown",
   "metadata": {},
   "source": [
    "---\n",
    "## **3. Data Preprocessing**"
   ]
  },
  {
   "cell_type": "markdown",
   "metadata": {},
   "source": [
    "### **3.1. Data Transformation**"
   ]
  },
  {
   "cell_type": "markdown",
   "metadata": {},
   "source": [
    "The 'dteday' column is currently an object type. We'll transform it into a datetime format and extract new columns (dayofweek, month, and year) for deeper insights."
   ]
  },
  {
   "cell_type": "code",
   "execution_count": 181,
   "metadata": {},
   "outputs": [],
   "source": [
    "df['dteday'] = pd.to_datetime(df['dteday'], errors='coerce')\n",
    "df[\"dayofweek\"] = df['dteday'].dt.day_of_week\n",
    "df[\"month\"] = df['dteday'].dt.month\n",
    "df[\"year\"] = df['dteday'].dt.year"
   ]
  },
  {
   "cell_type": "markdown",
   "metadata": {},
   "source": [
    "Next, we will rename the columns for clarity."
   ]
  },
  {
   "cell_type": "code",
   "execution_count": 182,
   "metadata": {},
   "outputs": [],
   "source": [
    "df.rename(columns={'dteday':'date','weathersit':'weather', 'holiday':'holiday', 'season':'season', 'hum':'humidity', 'temp':'temperature', 'atemp':'temperature_like', 'hr':'hour', 'cnt':'count'}, inplace=True)"
   ]
  },
  {
   "cell_type": "markdown",
   "metadata": {},
   "source": [
    "Additionally, the columns \"holiday\", \"weather\", \"season\", \"day\", \"month\", and \"year\" should be categorical. We will convert their datatypes accordingly."
   ]
  },
  {
   "cell_type": "code",
   "execution_count": 183,
   "metadata": {},
   "outputs": [],
   "source": [
    "df = df.astype({'weather':'category', 'holiday':'category', 'season':'category', 'dayofweek':'category', 'month':'category', 'year':'category'})"
   ]
  },
  {
   "cell_type": "markdown",
   "metadata": {},
   "source": [
    "### **3.2. Redundancy Handling**"
   ]
  },
  {
   "cell_type": "markdown",
   "metadata": {},
   "source": [
    "Next, I noticed that count is the sum of casual and registered. I will confirm that using this code:"
   ]
  },
  {
   "cell_type": "code",
   "execution_count": 184,
   "metadata": {},
   "outputs": [
    {
     "name": "stdout",
     "output_type": "stream",
     "text": [
      "All count values are correctly calculated: True\n"
     ]
    }
   ],
   "source": [
    "count_verif = df[\"count\"] == (df[\"casual\"] + df[\"registered\"])\n",
    "all_equal = count_verif.all()\n",
    "print(f\"All count values are correctly calculated: {all_equal}\")"
   ]
  },
  {
   "cell_type": "markdown",
   "metadata": {},
   "source": [
    "Next, we will drop redundant columns, which are date, casual, registered, and temperature_like.\n",
    "\n",
    "* date: redundant because we have splitted the contents\n",
    "* casual & registered: redundant because they result to cnt\n",
    "* temperature_like: redundant because very similar to temp"
   ]
  },
  {
   "cell_type": "code",
   "execution_count": 185,
   "metadata": {},
   "outputs": [],
   "source": [
    "df = df.drop([\"date\",\"casual\",\"registered\",\"temperature_like\"], axis=1)"
   ]
  },
  {
   "cell_type": "markdown",
   "metadata": {},
   "source": [
    "### **3.3. Descriptive Statistics**"
   ]
  },
  {
   "cell_type": "markdown",
   "metadata": {},
   "source": [
    "After understanding the contents of the dataset, the next step is to examine its descriptive statistics."
   ]
  },
  {
   "cell_type": "code",
   "execution_count": 186,
   "metadata": {},
   "outputs": [
    {
     "data": {
      "text/html": [
       "<div>\n",
       "<style scoped>\n",
       "    .dataframe tbody tr th:only-of-type {\n",
       "        vertical-align: middle;\n",
       "    }\n",
       "\n",
       "    .dataframe tbody tr th {\n",
       "        vertical-align: top;\n",
       "    }\n",
       "\n",
       "    .dataframe thead th {\n",
       "        text-align: right;\n",
       "    }\n",
       "</style>\n",
       "<table border=\"1\" class=\"dataframe\">\n",
       "  <thead>\n",
       "    <tr style=\"text-align: right;\">\n",
       "      <th></th>\n",
       "      <th>count</th>\n",
       "      <th>mean</th>\n",
       "      <th>std</th>\n",
       "      <th>min</th>\n",
       "      <th>25%</th>\n",
       "      <th>50%</th>\n",
       "      <th>75%</th>\n",
       "      <th>max</th>\n",
       "    </tr>\n",
       "  </thead>\n",
       "  <tbody>\n",
       "    <tr>\n",
       "      <th>humidity</th>\n",
       "      <td>12165.0</td>\n",
       "      <td>0.625451</td>\n",
       "      <td>0.192102</td>\n",
       "      <td>0.00</td>\n",
       "      <td>0.47</td>\n",
       "      <td>0.62</td>\n",
       "      <td>0.78</td>\n",
       "      <td>1.0</td>\n",
       "    </tr>\n",
       "    <tr>\n",
       "      <th>temperature</th>\n",
       "      <td>12165.0</td>\n",
       "      <td>0.498185</td>\n",
       "      <td>0.192492</td>\n",
       "      <td>0.02</td>\n",
       "      <td>0.34</td>\n",
       "      <td>0.50</td>\n",
       "      <td>0.66</td>\n",
       "      <td>1.0</td>\n",
       "    </tr>\n",
       "    <tr>\n",
       "      <th>hour</th>\n",
       "      <td>12165.0</td>\n",
       "      <td>11.519770</td>\n",
       "      <td>6.931872</td>\n",
       "      <td>0.00</td>\n",
       "      <td>6.00</td>\n",
       "      <td>12.00</td>\n",
       "      <td>18.00</td>\n",
       "      <td>23.0</td>\n",
       "    </tr>\n",
       "    <tr>\n",
       "      <th>count</th>\n",
       "      <td>12165.0</td>\n",
       "      <td>189.271023</td>\n",
       "      <td>181.223903</td>\n",
       "      <td>1.00</td>\n",
       "      <td>40.00</td>\n",
       "      <td>142.00</td>\n",
       "      <td>282.00</td>\n",
       "      <td>970.0</td>\n",
       "    </tr>\n",
       "  </tbody>\n",
       "</table>\n",
       "</div>"
      ],
      "text/plain": [
       "               count        mean         std   min    25%     50%     75%  \\\n",
       "humidity     12165.0    0.625451    0.192102  0.00   0.47    0.62    0.78   \n",
       "temperature  12165.0    0.498185    0.192492  0.02   0.34    0.50    0.66   \n",
       "hour         12165.0   11.519770    6.931872  0.00   6.00   12.00   18.00   \n",
       "count        12165.0  189.271023  181.223903  1.00  40.00  142.00  282.00   \n",
       "\n",
       "               max  \n",
       "humidity       1.0  \n",
       "temperature    1.0  \n",
       "hour          23.0  \n",
       "count        970.0  "
      ]
     },
     "execution_count": 186,
     "metadata": {},
     "output_type": "execute_result"
    }
   ],
   "source": [
    "df.describe().T"
   ]
  },
  {
   "cell_type": "markdown",
   "metadata": {},
   "source": [
    "### **3.4. Outlier Checking**"
   ]
  },
  {
   "cell_type": "markdown",
   "metadata": {},
   "source": [
    "Outliers needs to be checked because they are extreme values in a dataset that can significantly impact statistical analyses, hypothesis tests, and regression models."
   ]
  },
  {
   "cell_type": "code",
   "execution_count": 187,
   "metadata": {},
   "outputs": [
    {
     "data": {
      "image/png": "[encoded data removed]",
      "text/plain": [
       "<Figure size 1200x500 with 4 Axes>"
      ]
     },
     "metadata": {},
     "output_type": "display_data"
    }
   ],
   "source": [
    "num_cols = ['humidity', 'temperature', 'hour', 'count']\n",
    "num_data = df[num_cols]\n",
    "num_data.head(5)\n",
    "\n",
    "fig = plt.figure(figsize=(12, 5))\n",
    "position = 1\n",
    "\n",
    "for column in num_data.columns:\n",
    "    plt.subplot(2, 2, position)\n",
    "    sns.boxplot(x=num_data[column], color='yellow')\n",
    "    fig.tight_layout()\n",
    "    position += 1\n",
    "\n",
    "plt.show()"
   ]
  },
  {
   "cell_type": "markdown",
   "metadata": {},
   "source": [
    "Upon inspection, it's evident that numerous outliers are present, particularly noticeable in humidity and count.\n",
    "\n",
    "1. humidity: The boxplot shows some outliers at 0.0. Technically, 0% humidity is impossible because water vapor always exists in the air [(WGN Weather Blog, 2020)](https://wgntv.com/weather/weather-blog/is-a-humidity-of-zero-percent-possible/#:~:text=Given%20the%20Earth's%20present%20climate,humidity%20of%20exactly%20zero%20percent.). This might be an error.\n",
    "\n",
    "2. temperature: This column appears normal, as it is evenly distributed at first glance and has no outliers.\n",
    "\n",
    "3. hour: This column appears normal, as it is evenly distributed at first glance and has no outliers.\n",
    "\n",
    "4. cnt: This column is skewed, prompting a thorough outlier analysis.\n",
    "\n",
    "Next, we will identify the outliers by calculating the Q1, Q3, IQR, and the lower and upper bounds to determine the number of outliers."
   ]
  },
  {
   "cell_type": "code",
   "execution_count": 188,
   "metadata": {},
   "outputs": [
    {
     "name": "stdout",
     "output_type": "stream",
     "text": [
      "humidity have 14 outliers.\n",
      "temperature have 0 outliers.\n",
      "hour have 0 outliers.\n",
      "count have 338 outliers.\n"
     ]
    }
   ],
   "source": [
    "Q1 = num_data.quantile(0.25)\n",
    "Q3 = num_data.quantile(0.75)\n",
    "IQR = Q3 - Q1\n",
    "lower_bound = Q1 - 1.5 * IQR\n",
    "upper_bound = Q3 + 1.5 * IQR\n",
    "\n",
    "for columns in num_data.columns:\n",
    "  q1 = num_data[[columns]].describe().loc['25%']\n",
    "  q3 = num_data[[columns]].describe().loc['75%']\n",
    "  iqr = q3 - q1\n",
    "  whis = 1.5 * iqr\n",
    "  upper_bound = float(q3 + whis)\n",
    "  lower_bound = float(q1 - whis)\n",
    "\n",
    "  total_outliers = len(df[(num_data[columns] < lower_bound) | (num_data[columns] > upper_bound)])\n",
    "  print(f'{columns} have {total_outliers} outliers.')"
   ]
  },
  {
   "cell_type": "markdown",
   "metadata": {},
   "source": [
    "This confirms that outliers exists and we have to think of how to handle them."
   ]
  },
  {
   "cell_type": "markdown",
   "metadata": {},
   "source": [
    "### **3.5 Outlier Handling**"
   ]
  },
  {
   "cell_type": "markdown",
   "metadata": {},
   "source": [
    "First, I handled humidity by dropping rows where humidity is equal to 0."
   ]
  },
  {
   "cell_type": "code",
   "execution_count": 189,
   "metadata": {},
   "outputs": [],
   "source": [
    "df.drop(df[df['humidity'] == 0].index, inplace=True)"
   ]
  },
  {
   "cell_type": "markdown",
   "metadata": {},
   "source": [
    "To handle the count, I look at the upper & lower bound."
   ]
  },
  {
   "cell_type": "code",
   "execution_count": 190,
   "metadata": {},
   "outputs": [
    {
     "name": "stdout",
     "output_type": "stream",
     "text": [
      "The upper bound for 'count' is 645.0\n",
      "The lower bound for 'count' is -323.0\n"
     ]
    }
   ],
   "source": [
    "for column in num_data.columns:\n",
    "    if column == 'count':\n",
    "        q1 = num_data[column].quantile(0.25)\n",
    "        q3 = num_data[column].quantile(0.75)\n",
    "        iqr = q3 - q1\n",
    "        whis = 1.5 * iqr\n",
    "        upper_bound = float(q3 + whis)\n",
    "        lower_bound = float(q1 - whis)\n",
    "        \n",
    "        total_outliers = len(df[(num_data[column] < lower_bound) | (num_data[column] > upper_bound)])\n",
    "        print(f\"The upper bound for '{column}' is {upper_bound}\")\n",
    "        print(f\"The lower bound for '{column}' is {lower_bound}\")"
   ]
  },
  {
   "cell_type": "markdown",
   "metadata": {},
   "source": [
    "As seen from the previous boxplot, the outliers are located over the upper bound. Thus, we can use boxplot to compare count with outlier data and without outlier data."
   ]
  },
  {
   "cell_type": "code",
   "execution_count": 191,
   "metadata": {},
   "outputs": [
    {
     "data": {
      "image/png": "[encoded data removed]",
      "text/plain": [
       "<Figure size 2100x600 with 2 Axes>"
      ]
     },
     "metadata": {},
     "output_type": "display_data"
    }
   ],
   "source": [
    "df = df[(df['count'] <= 645.0) & (df['count'] >= -323.0)]\n",
    "fig, axes = plt.subplots(1,2, figsize=(21, 6))\n",
    "sns.histplot(df['count'], ax=axes[0], color='yellow')\n",
    "sns.histplot(df['count'], ax=axes[1], color='yellow')\n",
    "axes[0].set_xlabel('Count')\n",
    "axes[1].set_xlabel('Count without Outliers');"
   ]
  },
  {
   "cell_type": "markdown",
   "metadata": {},
   "source": [
    "We can see that there are no significant difference between them. Thus, I decided to drop the outlier data."
   ]
  },
  {
   "cell_type": "code",
   "execution_count": 192,
   "metadata": {},
   "outputs": [],
   "source": [
    "df.drop(df[df['count'] >= 645].index, inplace=True)"
   ]
  },
  {
   "cell_type": "markdown",
   "metadata": {},
   "source": [
    "The dataset now look like this."
   ]
  },
  {
   "cell_type": "code",
   "execution_count": 193,
   "metadata": {},
   "outputs": [
    {
     "data": {
      "image/png": "[encoded data removed]",
      "text/plain": [
       "<Figure size 1200x500 with 4 Axes>"
      ]
     },
     "metadata": {},
     "output_type": "display_data"
    }
   ],
   "source": [
    "num_data = df[num_cols]\n",
    "\n",
    "fig = plt.figure(figsize=(12,5))\n",
    "position = 1\n",
    "\n",
    "for columns in num_data.columns[:6]:\n",
    "    plt.subplot(2, 2, position)\n",
    "    sns.boxplot(x=num_data[columns],color='yellow')\n",
    "    fig.tight_layout()\n",
    "    position += 1\n",
    "\n",
    "plt.show()"
   ]
  },
  {
   "cell_type": "markdown",
   "metadata": {},
   "source": [
    "By removing these redundant features, we ensure our model focuses on the true underlying drivers of bike rental demand, leading to more reliable and actionable insights for optimizing inventory, improving customer satisfaction, and enhancing operational efficiency. This approach aligns with our main objective: forecasting the total number of bike rentals."
   ]
  },
  {
   "cell_type": "markdown",
   "metadata": {},
   "source": [
    "### **3.6. Clean Data**"
   ]
  },
  {
   "cell_type": "markdown",
   "metadata": {},
   "source": [
    "At last, we got the data that are clean which can be seen below:"
   ]
  },
  {
   "cell_type": "code",
   "execution_count": 194,
   "metadata": {},
   "outputs": [
    {
     "data": {
      "text/html": [
       "<div>\n",
       "<style scoped>\n",
       "    .dataframe tbody tr th:only-of-type {\n",
       "        vertical-align: middle;\n",
       "    }\n",
       "\n",
       "    .dataframe tbody tr th {\n",
       "        vertical-align: top;\n",
       "    }\n",
       "\n",
       "    .dataframe thead th {\n",
       "        text-align: right;\n",
       "    }\n",
       "</style>\n",
       "<table border=\"1\" class=\"dataframe\">\n",
       "  <thead>\n",
       "    <tr style=\"text-align: right;\">\n",
       "      <th></th>\n",
       "      <th>humidity</th>\n",
       "      <th>weather</th>\n",
       "      <th>holiday</th>\n",
       "      <th>season</th>\n",
       "      <th>temperature</th>\n",
       "      <th>hour</th>\n",
       "      <th>count</th>\n",
       "      <th>dayofweek</th>\n",
       "      <th>month</th>\n",
       "      <th>year</th>\n",
       "    </tr>\n",
       "  </thead>\n",
       "  <tbody>\n",
       "    <tr>\n",
       "      <th>0</th>\n",
       "      <td>0.62</td>\n",
       "      <td>1</td>\n",
       "      <td>0</td>\n",
       "      <td>4</td>\n",
       "      <td>0.36</td>\n",
       "      <td>16</td>\n",
       "      <td>250</td>\n",
       "      <td>4</td>\n",
       "      <td>12</td>\n",
       "      <td>2011</td>\n",
       "    </tr>\n",
       "    <tr>\n",
       "      <th>1</th>\n",
       "      <td>0.64</td>\n",
       "      <td>1</td>\n",
       "      <td>0</td>\n",
       "      <td>2</td>\n",
       "      <td>0.54</td>\n",
       "      <td>4</td>\n",
       "      <td>18</td>\n",
       "      <td>6</td>\n",
       "      <td>6</td>\n",
       "      <td>2012</td>\n",
       "    </tr>\n",
       "    <tr>\n",
       "      <th>2</th>\n",
       "      <td>0.53</td>\n",
       "      <td>1</td>\n",
       "      <td>0</td>\n",
       "      <td>2</td>\n",
       "      <td>0.62</td>\n",
       "      <td>23</td>\n",
       "      <td>107</td>\n",
       "      <td>2</td>\n",
       "      <td>6</td>\n",
       "      <td>2011</td>\n",
       "    </tr>\n",
       "    <tr>\n",
       "      <th>3</th>\n",
       "      <td>0.87</td>\n",
       "      <td>2</td>\n",
       "      <td>0</td>\n",
       "      <td>2</td>\n",
       "      <td>0.36</td>\n",
       "      <td>8</td>\n",
       "      <td>145</td>\n",
       "      <td>5</td>\n",
       "      <td>3</td>\n",
       "      <td>2012</td>\n",
       "    </tr>\n",
       "    <tr>\n",
       "      <th>5</th>\n",
       "      <td>0.72</td>\n",
       "      <td>1</td>\n",
       "      <td>0</td>\n",
       "      <td>4</td>\n",
       "      <td>0.46</td>\n",
       "      <td>0</td>\n",
       "      <td>45</td>\n",
       "      <td>0</td>\n",
       "      <td>10</td>\n",
       "      <td>2012</td>\n",
       "    </tr>\n",
       "  </tbody>\n",
       "</table>\n",
       "</div>"
      ],
      "text/plain": [
       "   humidity weather holiday season  temperature  hour  count dayofweek month  \\\n",
       "0      0.62       1       0      4         0.36    16    250         4    12   \n",
       "1      0.64       1       0      2         0.54     4     18         6     6   \n",
       "2      0.53       1       0      2         0.62    23    107         2     6   \n",
       "3      0.87       2       0      2         0.36     8    145         5     3   \n",
       "5      0.72       1       0      4         0.46     0     45         0    10   \n",
       "\n",
       "   year  \n",
       "0  2011  \n",
       "1  2012  \n",
       "2  2011  \n",
       "3  2012  \n",
       "5  2012  "
      ]
     },
     "execution_count": 194,
     "metadata": {},
     "output_type": "execute_result"
    }
   ],
   "source": [
    "df.head()"
   ]
  },
  {
   "cell_type": "code",
   "execution_count": 195,
   "metadata": {},
   "outputs": [
    {
     "name": "stdout",
     "output_type": "stream",
     "text": [
      "<class 'pandas.core.frame.DataFrame'>\n",
      "Index: 11811 entries, 0 to 12164\n",
      "Data columns (total 10 columns):\n",
      " #   Column       Non-Null Count  Dtype   \n",
      "---  ------       --------------  -----   \n",
      " 0   humidity     11811 non-null  float64 \n",
      " 1   weather      11811 non-null  category\n",
      " 2   holiday      11811 non-null  category\n",
      " 3   season       11811 non-null  category\n",
      " 4   temperature  11811 non-null  float64 \n",
      " 5   hour         11811 non-null  int64   \n",
      " 6   count        11811 non-null  int64   \n",
      " 7   dayofweek    11811 non-null  category\n",
      " 8   month        11811 non-null  category\n",
      " 9   year         11811 non-null  category\n",
      "dtypes: category(6), float64(2), int64(2)\n",
      "memory usage: 531.7 KB\n"
     ]
    }
   ],
   "source": [
    "df.info()"
   ]
  },
  {
   "cell_type": "markdown",
   "metadata": {},
   "source": [
    "---\n",
    "## **4. Bike Demand Prediction**"
   ]
  },
  {
   "cell_type": "markdown",
   "metadata": {},
   "source": [
    "### **4.1. Data Splitting**"
   ]
  },
  {
   "cell_type": "markdown",
   "metadata": {},
   "source": [
    "First, we need to split the dataset into training and testing sets.\n",
    "\n",
    "The splitting scheme are as follow:\n",
    "* X: Features --> Columns other than 'count'\n",
    "* y: Target --> 'count'"
   ]
  },
  {
   "cell_type": "code",
   "execution_count": 196,
   "metadata": {},
   "outputs": [],
   "source": [
    "X = df.drop('count', axis=1)\n",
    "y = df['count']"
   ]
  },
  {
   "cell_type": "markdown",
   "metadata": {},
   "source": [
    "### **4.2. Data Encoding**"
   ]
  },
  {
   "cell_type": "markdown",
   "metadata": {},
   "source": [
    "Next, for better model performance, we encoded the features."
   ]
  },
  {
   "cell_type": "code",
   "execution_count": 197,
   "metadata": {},
   "outputs": [],
   "source": [
    "transformer = ColumnTransformer([\n",
    "        ('onehot', OneHotEncoder(), ['weather', 'holiday', 'season', 'year']),\n",
    "        ('binary', BinaryEncoder(), ['dayofweek', 'month']),\n",
    "],remainder='passthrough')"
   ]
  },
  {
   "cell_type": "markdown",
   "metadata": {},
   "source": [
    "**OneHotEncoder** is used to convert categorical variables into a format that can be provided to machine learning algorithms to do a better job in prediction. For each category, a new binary column is created. The reason for using OneHotEncoder for weather, holiday, season, and year is as follows:\n",
    "\n",
    "* weather: The weather feature describes the weather conditions and is ordinal with values ranging from 1 to 4. Since there is no inherent numerical relationship between different weather conditions (e.g., \"Clear\" vs. \"Mist\"), it is beneficial to convert this feature into separate binary columns representing each category.\n",
    "\n",
    "* holiday: The holiday feature indicates whether a particular day is a holiday or not. This is a binary categorical feature with values 0 and 1. Using OneHotEncoder helps to create a separate column for each category, even though there are only two categories. This can help in maintaining a consistent approach to encoding categorical features.\n",
    "\n",
    "* season: The season feature represents the different seasons (winter, spring, summer, fall). Like the weather feature, seasons are categorical without a numerical relationship between them. OneHotEncoder transforms this feature into separate columns for each season, ensuring the model treats them appropriately.\n",
    "\n",
    "* year: The year feature represents different years. Depending on the dataset, it can be treated as a categorical variable. If there are only a few distinct years, OneHotEncoder can convert them into separate binary columns. However, if there are many years, this might not be practical.\n",
    "\n",
    "**BinaryEncoder** is used for features with many categories or for ordinal features where binary encoding can provide a more compact representation. It converts the categories into a sequence of binary digits, which can be more efficient for models to process.\n",
    "\n",
    "* dayofweek: The dayofweek feature represents the days of the week. Although it can be treated as an ordinal feature (e.g., Monday to Sunday), encoding it with BinaryEncoder can help reduce dimensionality compared to OneHotEncoder, especially if the dataset has a large number of categories.\n",
    "\n",
    "* month: The month feature represents the months of the year. Similar to dayofweek, BinaryEncoder is used to provide a more compact representation compared to OneHotEncoder. This is particularly useful if there are many categories or if the dataset size is large."
   ]
  },
  {
   "cell_type": "code",
   "execution_count": 198,
   "metadata": {},
   "outputs": [
    {
     "name": "stdout",
     "output_type": "stream",
     "text": [
      "<class 'pandas.core.frame.DataFrame'>\n",
      "Index: 2363 entries, 8395 to 5651\n",
      "Data columns (total 9 columns):\n",
      " #   Column       Non-Null Count  Dtype   \n",
      "---  ------       --------------  -----   \n",
      " 0   humidity     2363 non-null   float64 \n",
      " 1   weather      2363 non-null   category\n",
      " 2   holiday      2363 non-null   category\n",
      " 3   season       2363 non-null   category\n",
      " 4   temperature  2363 non-null   float64 \n",
      " 5   hour         2363 non-null   int64   \n",
      " 6   dayofweek    2363 non-null   category\n",
      " 7   month        2363 non-null   category\n",
      " 8   year         2363 non-null   category\n",
      "dtypes: category(6), float64(2), int64(1)\n",
      "memory usage: 153.4 KB\n"
     ]
    }
   ],
   "source": [
    "X_test.info()"
   ]
  },
  {
   "cell_type": "markdown",
   "metadata": {},
   "source": [
    "### **4.3. Data Scaling & Splitting**"
   ]
  },
  {
   "cell_type": "markdown",
   "metadata": {},
   "source": [
    "We need to scale data to ensure that features contribute equally to the model and to improve convergence during training, and we split data to evaluate the model's performance on unseen data, preventing overfitting."
   ]
  },
  {
   "cell_type": "code",
   "execution_count": 199,
   "metadata": {},
   "outputs": [],
   "source": [
    "# Data splitting\n",
    "X_train, X_test, y_train, y_test = train_test_split(\n",
    "    X,\n",
    "    y,\n",
    "    test_size=0.2,\n",
    "    random_state=42)"
   ]
  },
  {
   "cell_type": "code",
   "execution_count": 200,
   "metadata": {},
   "outputs": [],
   "source": [
    "for col in ['weather', 'holiday', 'season', 'dayofweek', 'month', 'year']:\n",
    "    df[col] = df[col].astype(str)"
   ]
  },
  {
   "cell_type": "code",
   "execution_count": 201,
   "metadata": {},
   "outputs": [],
   "source": [
    "X_test.to_csv('X_test.csv')"
   ]
  },
  {
   "cell_type": "code",
   "execution_count": 202,
   "metadata": {},
   "outputs": [
    {
     "name": "stdout",
     "output_type": "stream",
     "text": [
      "<class 'pandas.core.frame.DataFrame'>\n",
      "Index: 2363 entries, 8395 to 5651\n",
      "Data columns (total 9 columns):\n",
      " #   Column       Non-Null Count  Dtype   \n",
      "---  ------       --------------  -----   \n",
      " 0   humidity     2363 non-null   float64 \n",
      " 1   weather      2363 non-null   category\n",
      " 2   holiday      2363 non-null   category\n",
      " 3   season       2363 non-null   category\n",
      " 4   temperature  2363 non-null   float64 \n",
      " 5   hour         2363 non-null   int64   \n",
      " 6   dayofweek    2363 non-null   category\n",
      " 7   month        2363 non-null   category\n",
      " 8   year         2363 non-null   category\n",
      "dtypes: category(6), float64(2), int64(1)\n",
      "memory usage: 88.8 KB\n"
     ]
    }
   ],
   "source": [
    "X_test.info()"
   ]
  },
  {
   "cell_type": "code",
   "execution_count": 234,
   "metadata": {},
   "outputs": [
    {
     "data": {
      "text/html": [
       "<div>\n",
       "<style scoped>\n",
       "    .dataframe tbody tr th:only-of-type {\n",
       "        vertical-align: middle;\n",
       "    }\n",
       "\n",
       "    .dataframe tbody tr th {\n",
       "        vertical-align: top;\n",
       "    }\n",
       "\n",
       "    .dataframe thead th {\n",
       "        text-align: right;\n",
       "    }\n",
       "</style>\n",
       "<table border=\"1\" class=\"dataframe\">\n",
       "  <thead>\n",
       "    <tr style=\"text-align: right;\">\n",
       "      <th></th>\n",
       "      <th>humidity</th>\n",
       "      <th>weather</th>\n",
       "      <th>holiday</th>\n",
       "      <th>season</th>\n",
       "      <th>temperature</th>\n",
       "      <th>hour</th>\n",
       "      <th>dayofweek</th>\n",
       "      <th>month</th>\n",
       "      <th>year</th>\n",
       "    </tr>\n",
       "  </thead>\n",
       "  <tbody>\n",
       "    <tr>\n",
       "      <th>8395</th>\n",
       "      <td>0.69</td>\n",
       "      <td>1</td>\n",
       "      <td>0</td>\n",
       "      <td>2</td>\n",
       "      <td>0.62</td>\n",
       "      <td>14</td>\n",
       "      <td>2</td>\n",
       "      <td>5</td>\n",
       "      <td>2012</td>\n",
       "    </tr>\n",
       "    <tr>\n",
       "      <th>10047</th>\n",
       "      <td>0.39</td>\n",
       "      <td>2</td>\n",
       "      <td>0</td>\n",
       "      <td>1</td>\n",
       "      <td>0.32</td>\n",
       "      <td>1</td>\n",
       "      <td>6</td>\n",
       "      <td>2</td>\n",
       "      <td>2012</td>\n",
       "    </tr>\n",
       "    <tr>\n",
       "      <th>2217</th>\n",
       "      <td>0.82</td>\n",
       "      <td>2</td>\n",
       "      <td>0</td>\n",
       "      <td>2</td>\n",
       "      <td>0.42</td>\n",
       "      <td>20</td>\n",
       "      <td>1</td>\n",
       "      <td>4</td>\n",
       "      <td>2011</td>\n",
       "    </tr>\n",
       "    <tr>\n",
       "      <th>11383</th>\n",
       "      <td>0.71</td>\n",
       "      <td>3</td>\n",
       "      <td>0</td>\n",
       "      <td>4</td>\n",
       "      <td>0.34</td>\n",
       "      <td>19</td>\n",
       "      <td>3</td>\n",
       "      <td>12</td>\n",
       "      <td>2012</td>\n",
       "    </tr>\n",
       "    <tr>\n",
       "      <th>6444</th>\n",
       "      <td>0.87</td>\n",
       "      <td>2</td>\n",
       "      <td>0</td>\n",
       "      <td>4</td>\n",
       "      <td>0.38</td>\n",
       "      <td>10</td>\n",
       "      <td>0</td>\n",
       "      <td>12</td>\n",
       "      <td>2012</td>\n",
       "    </tr>\n",
       "  </tbody>\n",
       "</table>\n",
       "</div>"
      ],
      "text/plain": [
       "       humidity weather holiday season  temperature  hour dayofweek month  \\\n",
       "8395       0.69       1       0      2         0.62    14         2     5   \n",
       "10047      0.39       2       0      1         0.32     1         6     2   \n",
       "2217       0.82       2       0      2         0.42    20         1     4   \n",
       "11383      0.71       3       0      4         0.34    19         3    12   \n",
       "6444       0.87       2       0      4         0.38    10         0    12   \n",
       "\n",
       "       year  \n",
       "8395   2012  \n",
       "10047  2012  \n",
       "2217   2011  \n",
       "11383  2012  \n",
       "6444   2012  "
      ]
     },
     "execution_count": 234,
     "metadata": {},
     "output_type": "execute_result"
    }
   ],
   "source": [
    "X_test.head()"
   ]
  },
  {
   "cell_type": "markdown",
   "metadata": {},
   "source": [
    "### **4.4. Model Definition & Logarithmic Transformation**"
   ]
  },
  {
   "cell_type": "markdown",
   "metadata": {},
   "source": [
    "We begin by defining several regression models (Linear Regression, K-Nearest Neighbors, Decision Tree, Random Forest, and XGBoost) and applies a logarithmic transformation to the target variable for modeling purposes, then inverses it back for interpretation. This approach helps stabilize variance and normalize the distribution of the target variable, improving model performance and interpretability."
   ]
  },
  {
   "cell_type": "code",
   "execution_count": 203,
   "metadata": {},
   "outputs": [],
   "source": [
    "# Define the models\n",
    "lr = LinearRegression()\n",
    "knn = KNeighborsRegressor()\n",
    "dt = DecisionTreeRegressor(random_state=42)\n",
    "rf = RandomForestRegressor(random_state=42)\n",
    "xgb = XGBRegressor(random_state=42)"
   ]
  },
  {
   "cell_type": "code",
   "execution_count": 204,
   "metadata": {},
   "outputs": [],
   "source": [
    "# # Logarithmic modelling, followed by inverse for interpretation\n",
    "# log_lr = TransformedTargetRegressor(lr, func=np.log, inverse_func=np.exp)\n",
    "# log_knn = TransformedTargetRegressor(knn, func=np.log, inverse_func=np.exp)\n",
    "# log_dt = TransformedTargetRegressor(dt, func=np.log, inverse_func=np.exp)\n",
    "# log_rf = TransformedTargetRegressor(rf, func=np.log, inverse_func=np.exp)\n",
    "# log_xgb = TransformedTargetRegressor(xgb, func=np.log, inverse_func=np.exp)"
   ]
  },
  {
   "cell_type": "markdown",
   "metadata": {},
   "source": [
    "### **4.5. Training & Validation**"
   ]
  },
  {
   "cell_type": "markdown",
   "metadata": {},
   "source": [
    "Next, we evaluate various regression models using cross-validation to find the best-performing algorithm based on mean absolute error (MAE), mean absolute percentage error (MAPE), and R-squared (R²) metrics, and stores the results for further analysis."
   ]
  },
  {
   "cell_type": "code",
   "execution_count": 205,
   "metadata": {},
   "outputs": [],
   "source": [
    "# List models\n",
    "models = [lr, knn, dt, rf, xgb]\n",
    "\n",
    "# Create an empty list for MAE, MAPE, and R2\n",
    "mae_score = []\n",
    "mae_mean_score = []\n",
    "mae_std_score = []\n",
    "\n",
    "mape_score = []\n",
    "mape_mean_score = []\n",
    "mape_std_score = []\n",
    "\n",
    "r2_score_score = []\n",
    "r2_mean_score = []\n",
    "r2_std_score = []\n",
    "\n",
    "# Create loop to find the best algorithm\n",
    "for i in models:\n",
    "    \n",
    "    crossval = KFold(n_splits=5, shuffle=True, random_state=2020)\n",
    "\n",
    "    estimator = Pipeline([\n",
    "        ('preprocessing',transformer),\n",
    "        ('scaler', RobustScaler()),\n",
    "        ('model', i)\n",
    "    ])\n",
    "\n",
    "    # MAE\n",
    "    model_cv_mae = cross_val_score(\n",
    "        estimator, \n",
    "        X_train, \n",
    "        y_train, \n",
    "        cv=crossval, \n",
    "        scoring='neg_mean_absolute_error', \n",
    "        error_score='raise'\n",
    "    )\n",
    "\n",
    "    mae_score.append(model_cv_mae)\n",
    "    mae_mean_score.append(model_cv_mae.mean())\n",
    "    mae_std_score.append(model_cv_mae.std())\n",
    "\n",
    "    # MAPE\n",
    "    model_cv_mape = cross_val_score(\n",
    "        estimator, \n",
    "        X_train, \n",
    "        y_train, \n",
    "        cv=crossval, \n",
    "        scoring='neg_mean_absolute_percentage_error', \n",
    "        error_score='raise'\n",
    "    )\n",
    "\n",
    "    mape_score.append(model_cv_mape)\n",
    "    mape_mean_score.append(model_cv_mape.mean())\n",
    "    mape_std_score.append(model_cv_mape.std())\n",
    "\n",
    "    # R-squared\n",
    "    model_cv_r2 = cross_val_score(\n",
    "        estimator, \n",
    "        X_train, \n",
    "        y_train, \n",
    "        cv=crossval, \n",
    "        scoring='r2', \n",
    "        error_score='raise'\n",
    "    )\n",
    "\n",
    "    r2_score_score.append(model_cv_r2)\n",
    "    r2_mean_score.append(model_cv_r2.mean())\n",
    "    r2_std_score.append(model_cv_r2.std())"
   ]
  },
  {
   "cell_type": "markdown",
   "metadata": {},
   "source": [
    "### **4.6. Evaluation**"
   ]
  },
  {
   "cell_type": "markdown",
   "metadata": {},
   "source": [
    "After training and validating each model, we can now evaluate the results from the 5 models."
   ]
  },
  {
   "cell_type": "code",
   "execution_count": 206,
   "metadata": {},
   "outputs": [
    {
     "data": {
      "text/html": [
       "<div>\n",
       "<style scoped>\n",
       "    .dataframe tbody tr th:only-of-type {\n",
       "        vertical-align: middle;\n",
       "    }\n",
       "\n",
       "    .dataframe tbody tr th {\n",
       "        vertical-align: top;\n",
       "    }\n",
       "\n",
       "    .dataframe thead th {\n",
       "        text-align: right;\n",
       "    }\n",
       "</style>\n",
       "<table border=\"1\" class=\"dataframe\">\n",
       "  <thead>\n",
       "    <tr style=\"text-align: right;\">\n",
       "      <th></th>\n",
       "      <th>Model</th>\n",
       "      <th>Mean_MAE</th>\n",
       "      <th>Std_MAE</th>\n",
       "      <th>Mean_MAPE</th>\n",
       "      <th>Std_MAPE</th>\n",
       "      <th>Mean_R2</th>\n",
       "      <th>Std_R2</th>\n",
       "    </tr>\n",
       "  </thead>\n",
       "  <tbody>\n",
       "    <tr>\n",
       "      <th>4</th>\n",
       "      <td>XGBoost Regressor</td>\n",
       "      <td>-29.351024</td>\n",
       "      <td>2.008843</td>\n",
       "      <td>-0.517000</td>\n",
       "      <td>0.039509</td>\n",
       "      <td>0.916927</td>\n",
       "      <td>0.007865</td>\n",
       "    </tr>\n",
       "    <tr>\n",
       "      <th>3</th>\n",
       "      <td>RandomForest Regressor</td>\n",
       "      <td>-32.556303</td>\n",
       "      <td>4.286728</td>\n",
       "      <td>-0.444255</td>\n",
       "      <td>0.121468</td>\n",
       "      <td>0.886467</td>\n",
       "      <td>0.025779</td>\n",
       "    </tr>\n",
       "    <tr>\n",
       "      <th>2</th>\n",
       "      <td>DecisionTree Regressor</td>\n",
       "      <td>-42.409613</td>\n",
       "      <td>5.329854</td>\n",
       "      <td>-0.502036</td>\n",
       "      <td>0.126048</td>\n",
       "      <td>0.775786</td>\n",
       "      <td>0.055794</td>\n",
       "    </tr>\n",
       "    <tr>\n",
       "      <th>1</th>\n",
       "      <td>KNN Regressor</td>\n",
       "      <td>-82.141978</td>\n",
       "      <td>1.633559</td>\n",
       "      <td>-2.841029</td>\n",
       "      <td>0.194198</td>\n",
       "      <td>0.469188</td>\n",
       "      <td>0.025302</td>\n",
       "    </tr>\n",
       "    <tr>\n",
       "      <th>0</th>\n",
       "      <td>Linear Regression</td>\n",
       "      <td>-92.466053</td>\n",
       "      <td>0.486988</td>\n",
       "      <td>-3.074979</td>\n",
       "      <td>0.097365</td>\n",
       "      <td>0.395557</td>\n",
       "      <td>0.007976</td>\n",
       "    </tr>\n",
       "  </tbody>\n",
       "</table>\n",
       "</div>"
      ],
      "text/plain": [
       "                    Model   Mean_MAE   Std_MAE  Mean_MAPE  Std_MAPE   Mean_R2  \\\n",
       "4       XGBoost Regressor -29.351024  2.008843  -0.517000  0.039509  0.916927   \n",
       "3  RandomForest Regressor -32.556303  4.286728  -0.444255  0.121468  0.886467   \n",
       "2  DecisionTree Regressor -42.409613  5.329854  -0.502036  0.126048  0.775786   \n",
       "1           KNN Regressor -82.141978  1.633559  -2.841029  0.194198  0.469188   \n",
       "0       Linear Regression -92.466053  0.486988  -3.074979  0.097365  0.395557   \n",
       "\n",
       "     Std_R2  \n",
       "4  0.007865  \n",
       "3  0.025779  \n",
       "2  0.055794  \n",
       "1  0.025302  \n",
       "0  0.007976  "
      ]
     },
     "execution_count": 206,
     "metadata": {},
     "output_type": "execute_result"
    }
   ],
   "source": [
    "# Evaluate result from the models\n",
    "pd.DataFrame({\n",
    "    'Model': ['Linear Regression', 'KNN Regressor', 'DecisionTree Regressor', 'RandomForest Regressor', 'XGBoost Regressor'],\n",
    "    'Mean_MAE': mae_mean_score,\n",
    "    'Std_MAE': mae_std_score,\n",
    "    'Mean_MAPE': mape_mean_score,\n",
    "    'Std_MAPE': mape_std_score,\n",
    "    'Mean_R2': r2_mean_score,\n",
    "    'Std_R2': r2_std_score\n",
    "}).sort_values('Mean_R2', ascending=False)"
   ]
  },
  {
   "cell_type": "markdown",
   "metadata": {},
   "source": [
    "From the results, we can conclude that:\n",
    "* XGBoost Regressor is the best performing model with the lowest mean absolute error (MAE), lowest mean absolute percentage error (MAPE), and highest R² value, indicating it has the best predictive accuracy and fits the data well.\n",
    "* RandomForest Regressor also performs well but has higher error and variability compared to XGBoost.\n",
    "* DecisionTree Regressor shows moderate performance with higher errors and lower fit.\n",
    "* KNN Regressor and Linear Regression perform poorly with significantly higher errors and lower fit to the data.\n",
    "\n",
    "Thus, we will continue with XGBoost."
   ]
  },
  {
   "cell_type": "markdown",
   "metadata": {},
   "source": [
    "### **4.7. Predict to Train Set with Benchmark Model**"
   ]
  },
  {
   "cell_type": "code",
   "execution_count": 207,
   "metadata": {},
   "outputs": [
    {
     "name": "stdout",
     "output_type": "stream",
     "text": [
      "Cross-validation results on training set:\n"
     ]
    },
    {
     "data": {
      "text/html": [
       "<div>\n",
       "<style scoped>\n",
       "    .dataframe tbody tr th:only-of-type {\n",
       "        vertical-align: middle;\n",
       "    }\n",
       "\n",
       "    .dataframe tbody tr th {\n",
       "        vertical-align: top;\n",
       "    }\n",
       "\n",
       "    .dataframe thead th {\n",
       "        text-align: right;\n",
       "    }\n",
       "</style>\n",
       "<table border=\"1\" class=\"dataframe\">\n",
       "  <thead>\n",
       "    <tr style=\"text-align: right;\">\n",
       "      <th></th>\n",
       "      <th>Mean_MAE</th>\n",
       "      <th>Std_MAE</th>\n",
       "      <th>Mean_MAPE</th>\n",
       "      <th>Std_MAPE</th>\n",
       "      <th>Mean_R2</th>\n",
       "      <th>Std_R2</th>\n",
       "    </tr>\n",
       "  </thead>\n",
       "  <tbody>\n",
       "    <tr>\n",
       "      <th>XGB</th>\n",
       "      <td>-29.351024</td>\n",
       "      <td>2.008843</td>\n",
       "      <td>-0.517</td>\n",
       "      <td>0.039509</td>\n",
       "      <td>0.916927</td>\n",
       "      <td>0.007865</td>\n",
       "    </tr>\n",
       "  </tbody>\n",
       "</table>\n",
       "</div>"
      ],
      "text/plain": [
       "      Mean_MAE   Std_MAE  Mean_MAPE  Std_MAPE   Mean_R2    Std_R2\n",
       "XGB -29.351024  2.008843     -0.517  0.039509  0.916927  0.007865"
      ]
     },
     "execution_count": 207,
     "metadata": {},
     "output_type": "execute_result"
    }
   ],
   "source": [
    "# Define the model\n",
    "models = {'XGB': XGBRegressor(random_state=42)}\n",
    "\n",
    "# Initialize score lists for cross-validation\n",
    "score_mae_train = []\n",
    "score_mape_train = []\n",
    "score_r2_train = []\n",
    "\n",
    "# Cross-validation strategy\n",
    "crossval = KFold(n_splits=5, shuffle=True, random_state=2020)\n",
    "\n",
    "# Create the pipeline for the model\n",
    "model_pipeline = Pipeline([\n",
    "    ('preprocessing', transformer),\n",
    "    ('scaler', RobustScaler()),\n",
    "    ('model', xgb)\n",
    "])\n",
    "\n",
    "# Perform cross-validation and calculate scores\n",
    "mae_scores = cross_val_score(\n",
    "    model_pipeline, X_train, y_train, \n",
    "    cv=crossval, scoring='neg_mean_absolute_error'\n",
    ")\n",
    "mape_scores = cross_val_score(\n",
    "    model_pipeline, X_train, y_train, \n",
    "    cv=crossval, scoring='neg_mean_absolute_percentage_error'\n",
    ")\n",
    "r2_scores = cross_val_score(\n",
    "    model_pipeline, X_train, y_train, \n",
    "    cv=crossval, scoring='r2'\n",
    ")\n",
    "\n",
    "# Append mean and standard deviation of scores\n",
    "score_mae_train.append((np.mean(mae_scores), np.std(mae_scores)))\n",
    "score_mape_train.append((np.mean(mape_scores), np.std(mape_scores)))\n",
    "score_r2_train.append((np.mean(r2_scores), np.std(r2_scores)))\n",
    "\n",
    "# Create DataFrame with results\n",
    "train_model_scores = pd.DataFrame({\n",
    "    'Mean_MAE': [x[0] for x in score_mae_train],\n",
    "    'Std_MAE': [x[1] for x in score_mae_train],\n",
    "    'Mean_MAPE': [x[0] for x in score_mape_train],\n",
    "    'Std_MAPE': [x[1] for x in score_mape_train],\n",
    "    'Mean_R2': [x[0] for x in score_r2_train],\n",
    "    'Std_R2': [x[1] for x in score_r2_train]\n",
    "}, index=models.keys())\n",
    "\n",
    "print(\"Cross-validation results on training set:\")\n",
    "train_model_scores"
   ]
  },
  {
   "cell_type": "markdown",
   "metadata": {},
   "source": [
    "Mean Absolute Error (MAE):\n",
    "\n",
    "The Mean_MAE is -27.951876.\n",
    "This negative sign is due to the scoring method in cross_val_score, which uses neg_mean_absolute_error. The absolute MAE is 27.951876.\n",
    "The MAE indicates that, on average, the model's predictions are off by approximately 27.95 units from the actual values.\n",
    "The standard deviation of MAE (Std_MAE) is 1.877196, suggesting that the model's prediction error is relatively consistent across the cross-validation folds.\n",
    "Mean Absolute Percentage Error (MAPE):\n",
    "\n",
    "The Mean_MAPE is -0.280261. Again, the negative sign is because of the scoring method (neg_mean_absolute_percentage_error), so the MAPE is 0.280261.\n",
    "This value indicates that, on average, the model's predictions are off by approximately 28.03% from the actual values.\n",
    "The standard deviation of MAPE (Std_MAPE) is 0.017802, indicating low variability in the percentage error across different cross-validation folds.\n",
    "R-squared (R2):\n",
    "\n",
    "The Mean_R2 is 0.913871.\n",
    "This high R2 value suggests that the model explains approximately 91.39% of the variance in the target variable. This indicates a strong fit.\n",
    "The standard deviation of R2 (Std_R2) is 0.010556, which is quite low, suggesting that the model's performance is consistently strong across the cross-validation folds.\n",
    "Summary:\n",
    "Model Performance: The XGBoost model performs well, with a low MAE indicating good predictive accuracy and a high R2 value showing that the model explains most of the variance in the data.\n",
    "Consistency: The low standard deviations across all metrics (MAE, MAPE, R2) indicate that the model's performance is stable and consistent across different subsets of the data.\n",
    "Error Interpretation: The model's average prediction error is around 27.95 units, and it tends to predict within 28.03% of the actual values on average."
   ]
  },
  {
   "cell_type": "markdown",
   "metadata": {},
   "source": [
    "### **4.7. Predict to Test Set with Benchmark Model**"
   ]
  },
  {
   "cell_type": "markdown",
   "metadata": {},
   "source": [
    "#### **4.7.1 XGBoost**"
   ]
  },
  {
   "cell_type": "markdown",
   "metadata": {},
   "source": [
    "XGBoost, singkatan dari \"Extreme Gradient Boosting,\" adalah algoritma pembelajaran mesin yang kuat dan populer yang termasuk dalam kerangka kerja gradient boosting. Algoritma ini dirancang untuk memecahkan masalah regresi dan klasifikasi yang kompleks dengan menggabungkan kekuatan pohon keputusan dan teknik gradient boosting.\n",
    "\n",
    "Pada intinya, XGBoost membangun ensemble model prediksi yang lemah, biasanya pohon keputusan, secara berulang. Algoritma ini bekerja dengan memasangkan setiap pohon baru dengan kesalahan atau residu dari pohon sebelumnya, secara bertahap meningkatkan kinerja prediksi keseluruhan. Proses berulang ini meminimalkan kesalahan dengan menyesuaikan bobot dari setiap contoh dalam kumpulan data.\n",
    "\n",
    "Fitur utama yang membedakan XGBoost meliputi:\n",
    "\n",
    "1. **Regularisasi**: XGBoost menggabungkan teknik regularisasi untuk mencegah overfitting, memastikan bahwa model menggeneralisasi dengan baik ke data baru yang belum pernah dilihat sebelumnya. Ini dicapai dengan memberikan hukuman pada model yang kompleks dan memberikan pentingnya yang lebih tinggi pada pohon yang lebih sederhana dan stabil.\n",
    "2. **Optimisasi Gradient**: Algoritma ini mengoptimasi model menggunakan teknik gradien descent, secara efisien menemukan solusi terbaik untuk ensemble pohon. Hal ini menyebabkan konvergensi yang lebih cepat dan kinerja yang lebih baik.\n",
    "3. **Penanganan Missing Value**: XGBoost dapat efektif menangani nilai yang hilang selama tahap pelatihan dan prediksi, mengurangi kebutuhan untuk pra-pemrosesan data yang ekstensif.\n",
    "4. **Fleksibilitas**: Algoritma ini mendukung berbagai fungsi tujuan dan memungkinkan pengguna untuk mendefinisikan kriteria evaluasi kustom, sehingga dapat disesuaikan dengan berbagai domain masalah.\n",
    "5. **Feature Importance**: XGBoost memberikan wawasan tentang pentingnya fitur, membantu pengguna memahami variabel mana yang paling berkontribusi pada prediksi model.\n",
    "\n",
    "Karena ketangguhannya, efisiensinya, dan kemampuannya dalam menangani kumpulan data yang kompleks, XGBoost telah menjadi algoritma yang sering digunakan dalam kompetisi ilmu data dan aplikasi dunia nyata. Algoritma ini unggul dalam berbagai tugas, seperti memprediksi penjualan, mengklasifikasikan penyakit, deteksi kecurangan, dan lain-lain, menjadikannya alat yang penting untuk tugas-tugas pembelajaran mesin lanjutan."
   ]
  },
  {
   "cell_type": "markdown",
   "metadata": {},
   "source": [
    "#### **4.7.2 Prediction**"
   ]
  },
  {
   "cell_type": "code",
   "execution_count": 208,
   "metadata": {},
   "outputs": [
    {
     "data": {
      "text/html": [
       "<style>#sk-container-id-7 {color: black;background-color: white;}#sk-container-id-7 pre{padding: 0;}#sk-container-id-7 div.sk-toggleable {background-color: white;}#sk-container-id-7 label.sk-toggleable__label {cursor: pointer;display: block;width: 100%;margin-bottom: 0;padding: 0.3em;box-sizing: border-box;text-align: center;}#sk-container-id-7 label.sk-toggleable__label-arrow:before {content: \"▸\";float: left;margin-right: 0.25em;color: #696969;}#sk-container-id-7 label.sk-toggleable__label-arrow:hover:before {color: black;}#sk-container-id-7 div.sk-estimator:hover label.sk-toggleable__label-arrow:before {color: black;}#sk-container-id-7 div.sk-toggleable__content {max-height: 0;max-width: 0;overflow: hidden;text-align: left;background-color: #f0f8ff;}#sk-container-id-7 div.sk-toggleable__content pre {margin: 0.2em;color: black;border-radius: 0.25em;background-color: #f0f8ff;}#sk-container-id-7 input.sk-toggleable__control:checked~div.sk-toggleable__content {max-height: 200px;max-width: 100%;overflow: auto;}#sk-container-id-7 input.sk-toggleable__control:checked~label.sk-toggleable__label-arrow:before {content: \"▾\";}#sk-container-id-7 div.sk-estimator input.sk-toggleable__control:checked~label.sk-toggleable__label {background-color: #d4ebff;}#sk-container-id-7 div.sk-label input.sk-toggleable__control:checked~label.sk-toggleable__label {background-color: #d4ebff;}#sk-container-id-7 input.sk-hidden--visually {border: 0;clip: rect(1px 1px 1px 1px);clip: rect(1px, 1px, 1px, 1px);height: 1px;margin: -1px;overflow: hidden;padding: 0;position: absolute;width: 1px;}#sk-container-id-7 div.sk-estimator {font-family: monospace;background-color: #f0f8ff;border: 1px dotted black;border-radius: 0.25em;box-sizing: border-box;margin-bottom: 0.5em;}#sk-container-id-7 div.sk-estimator:hover {background-color: #d4ebff;}#sk-container-id-7 div.sk-parallel-item::after {content: \"\";width: 100%;border-bottom: 1px solid gray;flex-grow: 1;}#sk-container-id-7 div.sk-label:hover label.sk-toggleable__label {background-color: #d4ebff;}#sk-container-id-7 div.sk-serial::before {content: \"\";position: absolute;border-left: 1px solid gray;box-sizing: border-box;top: 0;bottom: 0;left: 50%;z-index: 0;}#sk-container-id-7 div.sk-serial {display: flex;flex-direction: column;align-items: center;background-color: white;padding-right: 0.2em;padding-left: 0.2em;position: relative;}#sk-container-id-7 div.sk-item {position: relative;z-index: 1;}#sk-container-id-7 div.sk-parallel {display: flex;align-items: stretch;justify-content: center;background-color: white;position: relative;}#sk-container-id-7 div.sk-item::before, #sk-container-id-7 div.sk-parallel-item::before {content: \"\";position: absolute;border-left: 1px solid gray;box-sizing: border-box;top: 0;bottom: 0;left: 50%;z-index: -1;}#sk-container-id-7 div.sk-parallel-item {display: flex;flex-direction: column;z-index: 1;position: relative;background-color: white;}#sk-container-id-7 div.sk-parallel-item:first-child::after {align-self: flex-end;width: 50%;}#sk-container-id-7 div.sk-parallel-item:last-child::after {align-self: flex-start;width: 50%;}#sk-container-id-7 div.sk-parallel-item:only-child::after {width: 0;}#sk-container-id-7 div.sk-dashed-wrapped {border: 1px dashed gray;margin: 0 0.4em 0.5em 0.4em;box-sizing: border-box;padding-bottom: 0.4em;background-color: white;}#sk-container-id-7 div.sk-label label {font-family: monospace;font-weight: bold;display: inline-block;line-height: 1.2em;}#sk-container-id-7 div.sk-label-container {text-align: center;}#sk-container-id-7 div.sk-container {/* jupyter's `normalize.less` sets `[hidden] { display: none; }` but bootstrap.min.css set `[hidden] { display: none !important; }` so we also need the `!important` here to be able to override the default hidden behavior on the sphinx rendered scikit-learn.org. See: https://github.com/scikit-learn/scikit-learn/issues/21755 */display: inline-block !important;position: relative;}#sk-container-id-7 div.sk-text-repr-fallback {display: none;}</style><div id=\"sk-container-id-7\" class=\"sk-top-container\"><div class=\"sk-text-repr-fallback\"><pre>Pipeline(steps=[(&#x27;preprocessing&#x27;,\n",
       "                 ColumnTransformer(remainder=&#x27;passthrough&#x27;,\n",
       "                                   transformers=[(&#x27;onehot&#x27;, OneHotEncoder(),\n",
       "                                                  [&#x27;weather&#x27;, &#x27;holiday&#x27;,\n",
       "                                                   &#x27;season&#x27;, &#x27;year&#x27;]),\n",
       "                                                 (&#x27;binary&#x27;, BinaryEncoder(),\n",
       "                                                  [&#x27;dayofweek&#x27;, &#x27;month&#x27;])])),\n",
       "                (&#x27;scaler&#x27;, RobustScaler()),\n",
       "                (&#x27;model&#x27;,\n",
       "                 XGBRegressor(base_score=None, booster=None, callbacks=None,\n",
       "                              colsample_bylevel=None, colsample_bynode=None,\n",
       "                              colsamp...\n",
       "                              feature_types=None, gamma=None, grow_policy=None,\n",
       "                              importance_type=None,\n",
       "                              interaction_constraints=None, learning_rate=None,\n",
       "                              max_bin=None, max_cat_threshold=None,\n",
       "                              max_cat_to_onehot=None, max_delta_step=None,\n",
       "                              max_depth=None, max_leaves=None,\n",
       "                              min_child_weight=None, missing=nan,\n",
       "                              monotone_constraints=None, multi_strategy=None,\n",
       "                              n_estimators=None, n_jobs=None,\n",
       "                              num_parallel_tree=None, random_state=42, ...))])</pre><b>In a Jupyter environment, please rerun this cell to show the HTML representation or trust the notebook. <br />On GitHub, the HTML representation is unable to render, please try loading this page with nbviewer.org.</b></div><div class=\"sk-container\" hidden><div class=\"sk-item sk-dashed-wrapped\"><div class=\"sk-label-container\"><div class=\"sk-label sk-toggleable\"><input class=\"sk-toggleable__control sk-hidden--visually\" id=\"sk-estimator-id-64\" type=\"checkbox\" ><label for=\"sk-estimator-id-64\" class=\"sk-toggleable__label sk-toggleable__label-arrow\">Pipeline</label><div class=\"sk-toggleable__content\"><pre>Pipeline(steps=[(&#x27;preprocessing&#x27;,\n",
       "                 ColumnTransformer(remainder=&#x27;passthrough&#x27;,\n",
       "                                   transformers=[(&#x27;onehot&#x27;, OneHotEncoder(),\n",
       "                                                  [&#x27;weather&#x27;, &#x27;holiday&#x27;,\n",
       "                                                   &#x27;season&#x27;, &#x27;year&#x27;]),\n",
       "                                                 (&#x27;binary&#x27;, BinaryEncoder(),\n",
       "                                                  [&#x27;dayofweek&#x27;, &#x27;month&#x27;])])),\n",
       "                (&#x27;scaler&#x27;, RobustScaler()),\n",
       "                (&#x27;model&#x27;,\n",
       "                 XGBRegressor(base_score=None, booster=None, callbacks=None,\n",
       "                              colsample_bylevel=None, colsample_bynode=None,\n",
       "                              colsamp...\n",
       "                              feature_types=None, gamma=None, grow_policy=None,\n",
       "                              importance_type=None,\n",
       "                              interaction_constraints=None, learning_rate=None,\n",
       "                              max_bin=None, max_cat_threshold=None,\n",
       "                              max_cat_to_onehot=None, max_delta_step=None,\n",
       "                              max_depth=None, max_leaves=None,\n",
       "                              min_child_weight=None, missing=nan,\n",
       "                              monotone_constraints=None, multi_strategy=None,\n",
       "                              n_estimators=None, n_jobs=None,\n",
       "                              num_parallel_tree=None, random_state=42, ...))])</pre></div></div></div><div class=\"sk-serial\"><div class=\"sk-item sk-dashed-wrapped\"><div class=\"sk-label-container\"><div class=\"sk-label sk-toggleable\"><input class=\"sk-toggleable__control sk-hidden--visually\" id=\"sk-estimator-id-65\" type=\"checkbox\" ><label for=\"sk-estimator-id-65\" class=\"sk-toggleable__label sk-toggleable__label-arrow\">preprocessing: ColumnTransformer</label><div class=\"sk-toggleable__content\"><pre>ColumnTransformer(remainder=&#x27;passthrough&#x27;,\n",
       "                  transformers=[(&#x27;onehot&#x27;, OneHotEncoder(),\n",
       "                                 [&#x27;weather&#x27;, &#x27;holiday&#x27;, &#x27;season&#x27;, &#x27;year&#x27;]),\n",
       "                                (&#x27;binary&#x27;, BinaryEncoder(),\n",
       "                                 [&#x27;dayofweek&#x27;, &#x27;month&#x27;])])</pre></div></div></div><div class=\"sk-parallel\"><div class=\"sk-parallel-item\"><div class=\"sk-item\"><div class=\"sk-label-container\"><div class=\"sk-label sk-toggleable\"><input class=\"sk-toggleable__control sk-hidden--visually\" id=\"sk-estimator-id-66\" type=\"checkbox\" ><label for=\"sk-estimator-id-66\" class=\"sk-toggleable__label sk-toggleable__label-arrow\">onehot</label><div class=\"sk-toggleable__content\"><pre>[&#x27;weather&#x27;, &#x27;holiday&#x27;, &#x27;season&#x27;, &#x27;year&#x27;]</pre></div></div></div><div class=\"sk-serial\"><div class=\"sk-item\"><div class=\"sk-estimator sk-toggleable\"><input class=\"sk-toggleable__control sk-hidden--visually\" id=\"sk-estimator-id-67\" type=\"checkbox\" ><label for=\"sk-estimator-id-67\" class=\"sk-toggleable__label sk-toggleable__label-arrow\">OneHotEncoder</label><div class=\"sk-toggleable__content\"><pre>OneHotEncoder()</pre></div></div></div></div></div></div><div class=\"sk-parallel-item\"><div class=\"sk-item\"><div class=\"sk-label-container\"><div class=\"sk-label sk-toggleable\"><input class=\"sk-toggleable__control sk-hidden--visually\" id=\"sk-estimator-id-68\" type=\"checkbox\" ><label for=\"sk-estimator-id-68\" class=\"sk-toggleable__label sk-toggleable__label-arrow\">binary</label><div class=\"sk-toggleable__content\"><pre>[&#x27;dayofweek&#x27;, &#x27;month&#x27;]</pre></div></div></div><div class=\"sk-serial\"><div class=\"sk-item\"><div class=\"sk-estimator sk-toggleable\"><input class=\"sk-toggleable__control sk-hidden--visually\" id=\"sk-estimator-id-69\" type=\"checkbox\" ><label for=\"sk-estimator-id-69\" class=\"sk-toggleable__label sk-toggleable__label-arrow\">BinaryEncoder</label><div class=\"sk-toggleable__content\"><pre>BinaryEncoder()</pre></div></div></div></div></div></div><div class=\"sk-parallel-item\"><div class=\"sk-item\"><div class=\"sk-label-container\"><div class=\"sk-label sk-toggleable\"><input class=\"sk-toggleable__control sk-hidden--visually\" id=\"sk-estimator-id-70\" type=\"checkbox\" ><label for=\"sk-estimator-id-70\" class=\"sk-toggleable__label sk-toggleable__label-arrow\">remainder</label><div class=\"sk-toggleable__content\"><pre></pre></div></div></div><div class=\"sk-serial\"><div class=\"sk-item\"><div class=\"sk-estimator sk-toggleable\"><input class=\"sk-toggleable__control sk-hidden--visually\" id=\"sk-estimator-id-71\" type=\"checkbox\" ><label for=\"sk-estimator-id-71\" class=\"sk-toggleable__label sk-toggleable__label-arrow\">passthrough</label><div class=\"sk-toggleable__content\"><pre>passthrough</pre></div></div></div></div></div></div></div></div><div class=\"sk-item\"><div class=\"sk-estimator sk-toggleable\"><input class=\"sk-toggleable__control sk-hidden--visually\" id=\"sk-estimator-id-72\" type=\"checkbox\" ><label for=\"sk-estimator-id-72\" class=\"sk-toggleable__label sk-toggleable__label-arrow\">RobustScaler</label><div class=\"sk-toggleable__content\"><pre>RobustScaler()</pre></div></div></div><div class=\"sk-item\"><div class=\"sk-estimator sk-toggleable\"><input class=\"sk-toggleable__control sk-hidden--visually\" id=\"sk-estimator-id-73\" type=\"checkbox\" ><label for=\"sk-estimator-id-73\" class=\"sk-toggleable__label sk-toggleable__label-arrow\">XGBRegressor</label><div class=\"sk-toggleable__content\"><pre>XGBRegressor(base_score=None, booster=None, callbacks=None,\n",
       "             colsample_bylevel=None, colsample_bynode=None,\n",
       "             colsample_bytree=None, device=None, early_stopping_rounds=None,\n",
       "             enable_categorical=False, eval_metric=None, feature_types=None,\n",
       "             gamma=None, grow_policy=None, importance_type=None,\n",
       "             interaction_constraints=None, learning_rate=None, max_bin=None,\n",
       "             max_cat_threshold=None, max_cat_to_onehot=None,\n",
       "             max_delta_step=None, max_depth=None, max_leaves=None,\n",
       "             min_child_weight=None, missing=nan, monotone_constraints=None,\n",
       "             multi_strategy=None, n_estimators=None, n_jobs=None,\n",
       "             num_parallel_tree=None, random_state=42, ...)</pre></div></div></div></div></div></div></div>"
      ],
      "text/plain": [
       "Pipeline(steps=[('preprocessing',\n",
       "                 ColumnTransformer(remainder='passthrough',\n",
       "                                   transformers=[('onehot', OneHotEncoder(),\n",
       "                                                  ['weather', 'holiday',\n",
       "                                                   'season', 'year']),\n",
       "                                                 ('binary', BinaryEncoder(),\n",
       "                                                  ['dayofweek', 'month'])])),\n",
       "                ('scaler', RobustScaler()),\n",
       "                ('model',\n",
       "                 XGBRegressor(base_score=None, booster=None, callbacks=None,\n",
       "                              colsample_bylevel=None, colsample_bynode=None,\n",
       "                              colsamp...\n",
       "                              feature_types=None, gamma=None, grow_policy=None,\n",
       "                              importance_type=None,\n",
       "                              interaction_constraints=None, learning_rate=None,\n",
       "                              max_bin=None, max_cat_threshold=None,\n",
       "                              max_cat_to_onehot=None, max_delta_step=None,\n",
       "                              max_depth=None, max_leaves=None,\n",
       "                              min_child_weight=None, missing=nan,\n",
       "                              monotone_constraints=None, multi_strategy=None,\n",
       "                              n_estimators=None, n_jobs=None,\n",
       "                              num_parallel_tree=None, random_state=42, ...))])"
      ]
     },
     "execution_count": 208,
     "metadata": {},
     "output_type": "execute_result"
    }
   ],
   "source": [
    "# Initialize score lists for the test set\n",
    "test_score_mae = []\n",
    "test_score_mape = []\n",
    "test_score_r2 = []\n",
    "\n",
    "# Create the pipeline for the model\n",
    "model_pipeline = Pipeline([\n",
    "    ('preprocessing', transformer),\n",
    "    ('scaler', RobustScaler()),\n",
    "    ('model', xgb)\n",
    "])\n",
    "\n",
    "model_pipeline"
   ]
  },
  {
   "cell_type": "code",
   "execution_count": 209,
   "metadata": {},
   "outputs": [
    {
     "name": "stdout",
     "output_type": "stream",
     "text": [
      "Final evaluation on test set:\n"
     ]
    },
    {
     "data": {
      "text/html": [
       "<div>\n",
       "<style scoped>\n",
       "    .dataframe tbody tr th:only-of-type {\n",
       "        vertical-align: middle;\n",
       "    }\n",
       "\n",
       "    .dataframe tbody tr th {\n",
       "        vertical-align: top;\n",
       "    }\n",
       "\n",
       "    .dataframe thead th {\n",
       "        text-align: right;\n",
       "    }\n",
       "</style>\n",
       "<table border=\"1\" class=\"dataframe\">\n",
       "  <thead>\n",
       "    <tr style=\"text-align: right;\">\n",
       "      <th></th>\n",
       "      <th>MAE</th>\n",
       "      <th>MAPE</th>\n",
       "      <th>R2</th>\n",
       "    </tr>\n",
       "  </thead>\n",
       "  <tbody>\n",
       "    <tr>\n",
       "      <th>XGB</th>\n",
       "      <td>28.6095</td>\n",
       "      <td>0.424031</td>\n",
       "      <td>0.919536</td>\n",
       "    </tr>\n",
       "  </tbody>\n",
       "</table>\n",
       "</div>"
      ],
      "text/plain": [
       "         MAE      MAPE        R2\n",
       "XGB  28.6095  0.424031  0.919536"
      ]
     },
     "execution_count": 209,
     "metadata": {},
     "output_type": "execute_result"
    }
   ],
   "source": [
    "# Fit the model on the entire training set\n",
    "model_pipeline.fit(X_train, y_train)\n",
    "\n",
    "# Predict on the test set\n",
    "y_pred_test = model_pipeline.predict(X_test)\n",
    "\n",
    "# Calculate scores on the test set\n",
    "test_score_mae.append(mean_absolute_error(y_test, y_pred_test))\n",
    "test_score_mape.append(mean_absolute_percentage_error(y_test, y_pred_test))\n",
    "test_score_r2.append(r2_score(y_test, y_pred_test))\n",
    "\n",
    "# Create DataFrame with results\n",
    "test_model_scores = pd.DataFrame({\n",
    "    'MAE': test_score_mae,\n",
    "    'MAPE': test_score_mape,\n",
    "    'R2': test_score_r2\n",
    "}, index=models.keys())\n",
    "\n",
    "print(\"Final evaluation on test set:\")\n",
    "test_model_scores"
   ]
  },
  {
   "cell_type": "markdown",
   "metadata": {},
   "source": [
    "Mean Absolute Error (MAE):\n",
    "\n",
    "The MAE is 27.467932.\n",
    "This indicates that, on average, the model's predictions are off by approximately 27.47 units from the actual values.\n",
    "MAE is a measure of prediction accuracy, and a lower value generally indicates a better fit.\n",
    "Mean Absolute Percentage Error (MAPE):\n",
    "\n",
    "The MAPE is 0.273875.\n",
    "This value indicates that, on average, the model's predictions are off by approximately 27.39% from the actual values.\n",
    "MAPE is useful for understanding the error relative to the magnitude of the actual values. In this case, the model's predictions are within 27.39% of the actual values on average.\n",
    "R-squared (R2):\n",
    "\n",
    "The R2 value is 0.917231.\n",
    "This high R2 value suggests that the model explains approximately 91.72% of the variance in the target variable.\n",
    "R2 is a measure of how well the model's predictions match the actual data. A higher value indicates a better fit, with 1 being a perfect fit.\n",
    "Summary:\n",
    "Model Performance: The XGBoost model performs well, with a relatively low MAE indicating good predictive accuracy. The MAPE shows that the model's predictions are within 27.39% of the actual values on average, which is reasonable depending on the context of your dataset and problem.\n",
    "Variance Explanation: The high R2 value of 0.917231 indicates that the model explains a large portion of the variance in the target variable, suggesting a strong fit."
   ]
  },
  {
   "cell_type": "markdown",
   "metadata": {},
   "source": [
    "### **4.8. Model Tuning**"
   ]
  },
  {
   "cell_type": "code",
   "execution_count": 210,
   "metadata": {},
   "outputs": [
    {
     "name": "stdout",
     "output_type": "stream",
     "text": [
      "Fitting 5 folds for each of 100 candidates, totalling 500 fits\n"
     ]
    },
    {
     "data": {
      "text/html": [
       "<style>#sk-container-id-8 {color: black;background-color: white;}#sk-container-id-8 pre{padding: 0;}#sk-container-id-8 div.sk-toggleable {background-color: white;}#sk-container-id-8 label.sk-toggleable__label {cursor: pointer;display: block;width: 100%;margin-bottom: 0;padding: 0.3em;box-sizing: border-box;text-align: center;}#sk-container-id-8 label.sk-toggleable__label-arrow:before {content: \"▸\";float: left;margin-right: 0.25em;color: #696969;}#sk-container-id-8 label.sk-toggleable__label-arrow:hover:before {color: black;}#sk-container-id-8 div.sk-estimator:hover label.sk-toggleable__label-arrow:before {color: black;}#sk-container-id-8 div.sk-toggleable__content {max-height: 0;max-width: 0;overflow: hidden;text-align: left;background-color: #f0f8ff;}#sk-container-id-8 div.sk-toggleable__content pre {margin: 0.2em;color: black;border-radius: 0.25em;background-color: #f0f8ff;}#sk-container-id-8 input.sk-toggleable__control:checked~div.sk-toggleable__content {max-height: 200px;max-width: 100%;overflow: auto;}#sk-container-id-8 input.sk-toggleable__control:checked~label.sk-toggleable__label-arrow:before {content: \"▾\";}#sk-container-id-8 div.sk-estimator input.sk-toggleable__control:checked~label.sk-toggleable__label {background-color: #d4ebff;}#sk-container-id-8 div.sk-label input.sk-toggleable__control:checked~label.sk-toggleable__label {background-color: #d4ebff;}#sk-container-id-8 input.sk-hidden--visually {border: 0;clip: rect(1px 1px 1px 1px);clip: rect(1px, 1px, 1px, 1px);height: 1px;margin: -1px;overflow: hidden;padding: 0;position: absolute;width: 1px;}#sk-container-id-8 div.sk-estimator {font-family: monospace;background-color: #f0f8ff;border: 1px dotted black;border-radius: 0.25em;box-sizing: border-box;margin-bottom: 0.5em;}#sk-container-id-8 div.sk-estimator:hover {background-color: #d4ebff;}#sk-container-id-8 div.sk-parallel-item::after {content: \"\";width: 100%;border-bottom: 1px solid gray;flex-grow: 1;}#sk-container-id-8 div.sk-label:hover label.sk-toggleable__label {background-color: #d4ebff;}#sk-container-id-8 div.sk-serial::before {content: \"\";position: absolute;border-left: 1px solid gray;box-sizing: border-box;top: 0;bottom: 0;left: 50%;z-index: 0;}#sk-container-id-8 div.sk-serial {display: flex;flex-direction: column;align-items: center;background-color: white;padding-right: 0.2em;padding-left: 0.2em;position: relative;}#sk-container-id-8 div.sk-item {position: relative;z-index: 1;}#sk-container-id-8 div.sk-parallel {display: flex;align-items: stretch;justify-content: center;background-color: white;position: relative;}#sk-container-id-8 div.sk-item::before, #sk-container-id-8 div.sk-parallel-item::before {content: \"\";position: absolute;border-left: 1px solid gray;box-sizing: border-box;top: 0;bottom: 0;left: 50%;z-index: -1;}#sk-container-id-8 div.sk-parallel-item {display: flex;flex-direction: column;z-index: 1;position: relative;background-color: white;}#sk-container-id-8 div.sk-parallel-item:first-child::after {align-self: flex-end;width: 50%;}#sk-container-id-8 div.sk-parallel-item:last-child::after {align-self: flex-start;width: 50%;}#sk-container-id-8 div.sk-parallel-item:only-child::after {width: 0;}#sk-container-id-8 div.sk-dashed-wrapped {border: 1px dashed gray;margin: 0 0.4em 0.5em 0.4em;box-sizing: border-box;padding-bottom: 0.4em;background-color: white;}#sk-container-id-8 div.sk-label label {font-family: monospace;font-weight: bold;display: inline-block;line-height: 1.2em;}#sk-container-id-8 div.sk-label-container {text-align: center;}#sk-container-id-8 div.sk-container {/* jupyter's `normalize.less` sets `[hidden] { display: none; }` but bootstrap.min.css set `[hidden] { display: none !important; }` so we also need the `!important` here to be able to override the default hidden behavior on the sphinx rendered scikit-learn.org. See: https://github.com/scikit-learn/scikit-learn/issues/21755 */display: inline-block !important;position: relative;}#sk-container-id-8 div.sk-text-repr-fallback {display: none;}</style><div id=\"sk-container-id-8\" class=\"sk-top-container\"><div class=\"sk-text-repr-fallback\"><pre>RandomizedSearchCV(cv=5,\n",
       "                   estimator=Pipeline(steps=[(&#x27;preprocessing&#x27;,\n",
       "                                              ColumnTransformer(remainder=&#x27;passthrough&#x27;,\n",
       "                                                                transformers=[(&#x27;onehot&#x27;,\n",
       "                                                                               OneHotEncoder(),\n",
       "                                                                               [&#x27;weather&#x27;,\n",
       "                                                                                &#x27;holiday&#x27;,\n",
       "                                                                                &#x27;season&#x27;,\n",
       "                                                                                &#x27;year&#x27;]),\n",
       "                                                                              (&#x27;binary&#x27;,\n",
       "                                                                               BinaryEncoder(),\n",
       "                                                                               [&#x27;dayofweek&#x27;,\n",
       "                                                                                &#x27;month&#x27;])])),\n",
       "                                             (&#x27;scaler&#x27;, RobustScaler()),\n",
       "                                             (&#x27;model&#x27;,\n",
       "                                              XGBRegressor(base_score=None,\n",
       "                                                           booster=None,\n",
       "                                                           callbacks=None,\n",
       "                                                           colsample_bylevel=...\n",
       "                                                           random_state=42, ...))]),\n",
       "                   n_iter=100, n_jobs=-1,\n",
       "                   param_distributions={&#x27;model__learning_rate&#x27;: [0.01, 0.05,\n",
       "                                                                 0.1, 0.2],\n",
       "                                        &#x27;model__max_depth&#x27;: [3, 4, 5, 6, 7, 8],\n",
       "                                        &#x27;model__n_estimators&#x27;: [100, 200, 300,\n",
       "                                                                400],\n",
       "                                        &#x27;model__reg_alpha&#x27;: [0, 0.01, 0.1, 1,\n",
       "                                                             10],\n",
       "                                        &#x27;model__reg_lambda&#x27;: [0.01, 0.1, 1, 10],\n",
       "                                        &#x27;model__subsample&#x27;: [0.6, 0.7, 0.8, 0.9,\n",
       "                                                             1.0]},\n",
       "                   random_state=42, scoring=&#x27;neg_mean_squared_error&#x27;,\n",
       "                   verbose=1)</pre><b>In a Jupyter environment, please rerun this cell to show the HTML representation or trust the notebook. <br />On GitHub, the HTML representation is unable to render, please try loading this page with nbviewer.org.</b></div><div class=\"sk-container\" hidden><div class=\"sk-item sk-dashed-wrapped\"><div class=\"sk-label-container\"><div class=\"sk-label sk-toggleable\"><input class=\"sk-toggleable__control sk-hidden--visually\" id=\"sk-estimator-id-74\" type=\"checkbox\" ><label for=\"sk-estimator-id-74\" class=\"sk-toggleable__label sk-toggleable__label-arrow\">RandomizedSearchCV</label><div class=\"sk-toggleable__content\"><pre>RandomizedSearchCV(cv=5,\n",
       "                   estimator=Pipeline(steps=[(&#x27;preprocessing&#x27;,\n",
       "                                              ColumnTransformer(remainder=&#x27;passthrough&#x27;,\n",
       "                                                                transformers=[(&#x27;onehot&#x27;,\n",
       "                                                                               OneHotEncoder(),\n",
       "                                                                               [&#x27;weather&#x27;,\n",
       "                                                                                &#x27;holiday&#x27;,\n",
       "                                                                                &#x27;season&#x27;,\n",
       "                                                                                &#x27;year&#x27;]),\n",
       "                                                                              (&#x27;binary&#x27;,\n",
       "                                                                               BinaryEncoder(),\n",
       "                                                                               [&#x27;dayofweek&#x27;,\n",
       "                                                                                &#x27;month&#x27;])])),\n",
       "                                             (&#x27;scaler&#x27;, RobustScaler()),\n",
       "                                             (&#x27;model&#x27;,\n",
       "                                              XGBRegressor(base_score=None,\n",
       "                                                           booster=None,\n",
       "                                                           callbacks=None,\n",
       "                                                           colsample_bylevel=...\n",
       "                                                           random_state=42, ...))]),\n",
       "                   n_iter=100, n_jobs=-1,\n",
       "                   param_distributions={&#x27;model__learning_rate&#x27;: [0.01, 0.05,\n",
       "                                                                 0.1, 0.2],\n",
       "                                        &#x27;model__max_depth&#x27;: [3, 4, 5, 6, 7, 8],\n",
       "                                        &#x27;model__n_estimators&#x27;: [100, 200, 300,\n",
       "                                                                400],\n",
       "                                        &#x27;model__reg_alpha&#x27;: [0, 0.01, 0.1, 1,\n",
       "                                                             10],\n",
       "                                        &#x27;model__reg_lambda&#x27;: [0.01, 0.1, 1, 10],\n",
       "                                        &#x27;model__subsample&#x27;: [0.6, 0.7, 0.8, 0.9,\n",
       "                                                             1.0]},\n",
       "                   random_state=42, scoring=&#x27;neg_mean_squared_error&#x27;,\n",
       "                   verbose=1)</pre></div></div></div><div class=\"sk-parallel\"><div class=\"sk-parallel-item\"><div class=\"sk-item\"><div class=\"sk-label-container\"><div class=\"sk-label sk-toggleable\"><input class=\"sk-toggleable__control sk-hidden--visually\" id=\"sk-estimator-id-75\" type=\"checkbox\" ><label for=\"sk-estimator-id-75\" class=\"sk-toggleable__label sk-toggleable__label-arrow\">estimator: Pipeline</label><div class=\"sk-toggleable__content\"><pre>Pipeline(steps=[(&#x27;preprocessing&#x27;,\n",
       "                 ColumnTransformer(remainder=&#x27;passthrough&#x27;,\n",
       "                                   transformers=[(&#x27;onehot&#x27;, OneHotEncoder(),\n",
       "                                                  [&#x27;weather&#x27;, &#x27;holiday&#x27;,\n",
       "                                                   &#x27;season&#x27;, &#x27;year&#x27;]),\n",
       "                                                 (&#x27;binary&#x27;, BinaryEncoder(),\n",
       "                                                  [&#x27;dayofweek&#x27;, &#x27;month&#x27;])])),\n",
       "                (&#x27;scaler&#x27;, RobustScaler()),\n",
       "                (&#x27;model&#x27;,\n",
       "                 XGBRegressor(base_score=None, booster=None, callbacks=None,\n",
       "                              colsample_bylevel=None, colsample_bynode=None,\n",
       "                              colsamp...\n",
       "                              feature_types=None, gamma=None, grow_policy=None,\n",
       "                              importance_type=None,\n",
       "                              interaction_constraints=None, learning_rate=None,\n",
       "                              max_bin=None, max_cat_threshold=None,\n",
       "                              max_cat_to_onehot=None, max_delta_step=None,\n",
       "                              max_depth=None, max_leaves=None,\n",
       "                              min_child_weight=None, missing=nan,\n",
       "                              monotone_constraints=None, multi_strategy=None,\n",
       "                              n_estimators=None, n_jobs=None,\n",
       "                              num_parallel_tree=None, random_state=42, ...))])</pre></div></div></div><div class=\"sk-serial\"><div class=\"sk-item\"><div class=\"sk-serial\"><div class=\"sk-item sk-dashed-wrapped\"><div class=\"sk-label-container\"><div class=\"sk-label sk-toggleable\"><input class=\"sk-toggleable__control sk-hidden--visually\" id=\"sk-estimator-id-76\" type=\"checkbox\" ><label for=\"sk-estimator-id-76\" class=\"sk-toggleable__label sk-toggleable__label-arrow\">preprocessing: ColumnTransformer</label><div class=\"sk-toggleable__content\"><pre>ColumnTransformer(remainder=&#x27;passthrough&#x27;,\n",
       "                  transformers=[(&#x27;onehot&#x27;, OneHotEncoder(),\n",
       "                                 [&#x27;weather&#x27;, &#x27;holiday&#x27;, &#x27;season&#x27;, &#x27;year&#x27;]),\n",
       "                                (&#x27;binary&#x27;, BinaryEncoder(),\n",
       "                                 [&#x27;dayofweek&#x27;, &#x27;month&#x27;])])</pre></div></div></div><div class=\"sk-parallel\"><div class=\"sk-parallel-item\"><div class=\"sk-item\"><div class=\"sk-label-container\"><div class=\"sk-label sk-toggleable\"><input class=\"sk-toggleable__control sk-hidden--visually\" id=\"sk-estimator-id-77\" type=\"checkbox\" ><label for=\"sk-estimator-id-77\" class=\"sk-toggleable__label sk-toggleable__label-arrow\">onehot</label><div class=\"sk-toggleable__content\"><pre>[&#x27;weather&#x27;, &#x27;holiday&#x27;, &#x27;season&#x27;, &#x27;year&#x27;]</pre></div></div></div><div class=\"sk-serial\"><div class=\"sk-item\"><div class=\"sk-estimator sk-toggleable\"><input class=\"sk-toggleable__control sk-hidden--visually\" id=\"sk-estimator-id-78\" type=\"checkbox\" ><label for=\"sk-estimator-id-78\" class=\"sk-toggleable__label sk-toggleable__label-arrow\">OneHotEncoder</label><div class=\"sk-toggleable__content\"><pre>OneHotEncoder()</pre></div></div></div></div></div></div><div class=\"sk-parallel-item\"><div class=\"sk-item\"><div class=\"sk-label-container\"><div class=\"sk-label sk-toggleable\"><input class=\"sk-toggleable__control sk-hidden--visually\" id=\"sk-estimator-id-79\" type=\"checkbox\" ><label for=\"sk-estimator-id-79\" class=\"sk-toggleable__label sk-toggleable__label-arrow\">binary</label><div class=\"sk-toggleable__content\"><pre>[&#x27;dayofweek&#x27;, &#x27;month&#x27;]</pre></div></div></div><div class=\"sk-serial\"><div class=\"sk-item\"><div class=\"sk-estimator sk-toggleable\"><input class=\"sk-toggleable__control sk-hidden--visually\" id=\"sk-estimator-id-80\" type=\"checkbox\" ><label for=\"sk-estimator-id-80\" class=\"sk-toggleable__label sk-toggleable__label-arrow\">BinaryEncoder</label><div class=\"sk-toggleable__content\"><pre>BinaryEncoder()</pre></div></div></div></div></div></div><div class=\"sk-parallel-item\"><div class=\"sk-item\"><div class=\"sk-label-container\"><div class=\"sk-label sk-toggleable\"><input class=\"sk-toggleable__control sk-hidden--visually\" id=\"sk-estimator-id-81\" type=\"checkbox\" ><label for=\"sk-estimator-id-81\" class=\"sk-toggleable__label sk-toggleable__label-arrow\">remainder</label><div class=\"sk-toggleable__content\"><pre>[&#x27;humidity&#x27;, &#x27;temperature&#x27;, &#x27;hour&#x27;]</pre></div></div></div><div class=\"sk-serial\"><div class=\"sk-item\"><div class=\"sk-estimator sk-toggleable\"><input class=\"sk-toggleable__control sk-hidden--visually\" id=\"sk-estimator-id-82\" type=\"checkbox\" ><label for=\"sk-estimator-id-82\" class=\"sk-toggleable__label sk-toggleable__label-arrow\">passthrough</label><div class=\"sk-toggleable__content\"><pre>passthrough</pre></div></div></div></div></div></div></div></div><div class=\"sk-item\"><div class=\"sk-estimator sk-toggleable\"><input class=\"sk-toggleable__control sk-hidden--visually\" id=\"sk-estimator-id-83\" type=\"checkbox\" ><label for=\"sk-estimator-id-83\" class=\"sk-toggleable__label sk-toggleable__label-arrow\">RobustScaler</label><div class=\"sk-toggleable__content\"><pre>RobustScaler()</pre></div></div></div><div class=\"sk-item\"><div class=\"sk-estimator sk-toggleable\"><input class=\"sk-toggleable__control sk-hidden--visually\" id=\"sk-estimator-id-84\" type=\"checkbox\" ><label for=\"sk-estimator-id-84\" class=\"sk-toggleable__label sk-toggleable__label-arrow\">XGBRegressor</label><div class=\"sk-toggleable__content\"><pre>XGBRegressor(base_score=None, booster=None, callbacks=None,\n",
       "             colsample_bylevel=None, colsample_bynode=None,\n",
       "             colsample_bytree=None, device=None, early_stopping_rounds=None,\n",
       "             enable_categorical=False, eval_metric=None, feature_types=None,\n",
       "             gamma=None, grow_policy=None, importance_type=None,\n",
       "             interaction_constraints=None, learning_rate=None, max_bin=None,\n",
       "             max_cat_threshold=None, max_cat_to_onehot=None,\n",
       "             max_delta_step=None, max_depth=None, max_leaves=None,\n",
       "             min_child_weight=None, missing=nan, monotone_constraints=None,\n",
       "             multi_strategy=None, n_estimators=None, n_jobs=None,\n",
       "             num_parallel_tree=None, random_state=42, ...)</pre></div></div></div></div></div></div></div></div></div></div></div></div>"
      ],
      "text/plain": [
       "RandomizedSearchCV(cv=5,\n",
       "                   estimator=Pipeline(steps=[('preprocessing',\n",
       "                                              ColumnTransformer(remainder='passthrough',\n",
       "                                                                transformers=[('onehot',\n",
       "                                                                               OneHotEncoder(),\n",
       "                                                                               ['weather',\n",
       "                                                                                'holiday',\n",
       "                                                                                'season',\n",
       "                                                                                'year']),\n",
       "                                                                              ('binary',\n",
       "                                                                               BinaryEncoder(),\n",
       "                                                                               ['dayofweek',\n",
       "                                                                                'month'])])),\n",
       "                                             ('scaler', RobustScaler()),\n",
       "                                             ('model',\n",
       "                                              XGBRegressor(base_score=None,\n",
       "                                                           booster=None,\n",
       "                                                           callbacks=None,\n",
       "                                                           colsample_bylevel=...\n",
       "                                                           random_state=42, ...))]),\n",
       "                   n_iter=100, n_jobs=-1,\n",
       "                   param_distributions={'model__learning_rate': [0.01, 0.05,\n",
       "                                                                 0.1, 0.2],\n",
       "                                        'model__max_depth': [3, 4, 5, 6, 7, 8],\n",
       "                                        'model__n_estimators': [100, 200, 300,\n",
       "                                                                400],\n",
       "                                        'model__reg_alpha': [0, 0.01, 0.1, 1,\n",
       "                                                             10],\n",
       "                                        'model__reg_lambda': [0.01, 0.1, 1, 10],\n",
       "                                        'model__subsample': [0.6, 0.7, 0.8, 0.9,\n",
       "                                                             1.0]},\n",
       "                   random_state=42, scoring='neg_mean_squared_error',\n",
       "                   verbose=1)"
      ]
     },
     "execution_count": 210,
     "metadata": {},
     "output_type": "execute_result"
    }
   ],
   "source": [
    "# Updated hyperparameter space\n",
    "hyperparam_space_xgb = {\n",
    "    'model__max_depth': [3, 4, 5, 6, 7, 8],\n",
    "    'model__learning_rate': [0.01, 0.05, 0.1, 0.2],\n",
    "    'model__n_estimators': [100, 200, 300, 400],\n",
    "    'model__subsample': [0.6, 0.7, 0.8, 0.9, 1.0],\n",
    "    'model__reg_alpha': [0, 0.01, 0.1, 1, 10],\n",
    "    'model__reg_lambda': [0.01, 0.1, 1, 10]\n",
    "}\n",
    "\n",
    "# Define the pipeline and randomized search\n",
    "estimator_xgb = Pipeline([\n",
    "    ('preprocessing',transformer),\n",
    "    ('scaler',RobustScaler()),\n",
    "    ('model', xgb),\n",
    "])\n",
    "\n",
    "# RandomizedSearchCV for hyperparameter tuning\n",
    "random_search_xgb = RandomizedSearchCV(\n",
    "    estimator=estimator_xgb,\n",
    "    param_distributions=hyperparam_space_xgb,\n",
    "    n_iter=100,            # Number of iterations\n",
    "    scoring='neg_mean_squared_error',\n",
    "    cv=5,\n",
    "    verbose=1,\n",
    "    n_jobs=-1,\n",
    "    random_state=42\n",
    ")\n",
    "\n",
    "random_search_xgb.fit(X_train, y_train)"
   ]
  },
  {
   "cell_type": "code",
   "execution_count": 211,
   "metadata": {},
   "outputs": [
    {
     "data": {
      "text/html": [
       "<div>\n",
       "<style scoped>\n",
       "    .dataframe tbody tr th:only-of-type {\n",
       "        vertical-align: middle;\n",
       "    }\n",
       "\n",
       "    .dataframe tbody tr th {\n",
       "        vertical-align: top;\n",
       "    }\n",
       "\n",
       "    .dataframe thead th {\n",
       "        text-align: right;\n",
       "    }\n",
       "</style>\n",
       "<table border=\"1\" class=\"dataframe\">\n",
       "  <thead>\n",
       "    <tr style=\"text-align: right;\">\n",
       "      <th></th>\n",
       "      <th>MAE</th>\n",
       "      <th>MAPE</th>\n",
       "      <th>R2</th>\n",
       "    </tr>\n",
       "  </thead>\n",
       "  <tbody>\n",
       "    <tr>\n",
       "      <th>XGB</th>\n",
       "      <td>26.137123</td>\n",
       "      <td>0.349651</td>\n",
       "      <td>0.927165</td>\n",
       "    </tr>\n",
       "  </tbody>\n",
       "</table>\n",
       "</div>"
      ],
      "text/plain": [
       "           MAE      MAPE        R2\n",
       "XGB  26.137123  0.349651  0.927165"
      ]
     },
     "execution_count": 211,
     "metadata": {},
     "output_type": "execute_result"
    }
   ],
   "source": [
    "# Extract the best model from random search\n",
    "best_model = random_search_xgb.best_estimator_\n",
    "\n",
    "# Make predictions with the tuned model\n",
    "y_pred_tune = best_model.predict(X_test)\n",
    "\n",
    "# Calculate final scores\n",
    "final_scores = {\n",
    "    'MAE': mean_absolute_error(y_test, y_pred_tune),\n",
    "    'MAPE': mean_absolute_percentage_error(y_test, y_pred_tune),\n",
    "    'R2': r2_score(y_test, y_pred_tune)\n",
    "}\n",
    "\n",
    "# Convert scores to DataFrame for display\n",
    "score_after_tuning = pd.DataFrame(final_scores, index=['XGB'])\n",
    "\n",
    "score_after_tuning"
   ]
  },
  {
   "cell_type": "markdown",
   "metadata": {},
   "source": [
    "From a glance, the results after tuning is worse than before tuning. Let's dive deeper to see how big of a difference it is and what may cause this difference."
   ]
  },
  {
   "cell_type": "markdown",
   "metadata": {},
   "source": [
    "### **4.10. Performance Comparison**"
   ]
  },
  {
   "cell_type": "code",
   "execution_count": 212,
   "metadata": {},
   "outputs": [
    {
     "data": {
      "text/html": [
       "<div>\n",
       "<style scoped>\n",
       "    .dataframe tbody tr th:only-of-type {\n",
       "        vertical-align: middle;\n",
       "    }\n",
       "\n",
       "    .dataframe tbody tr th {\n",
       "        vertical-align: top;\n",
       "    }\n",
       "\n",
       "    .dataframe thead th {\n",
       "        text-align: right;\n",
       "    }\n",
       "</style>\n",
       "<table border=\"1\" class=\"dataframe\">\n",
       "  <thead>\n",
       "    <tr style=\"text-align: right;\">\n",
       "      <th></th>\n",
       "      <th>MAE</th>\n",
       "      <th>MAPE</th>\n",
       "      <th>R2</th>\n",
       "    </tr>\n",
       "  </thead>\n",
       "  <tbody>\n",
       "    <tr>\n",
       "      <th>XGB</th>\n",
       "      <td>28.6095</td>\n",
       "      <td>0.424031</td>\n",
       "      <td>0.919536</td>\n",
       "    </tr>\n",
       "  </tbody>\n",
       "</table>\n",
       "</div>"
      ],
      "text/plain": [
       "         MAE      MAPE        R2\n",
       "XGB  28.6095  0.424031  0.919536"
      ]
     },
     "execution_count": 212,
     "metadata": {},
     "output_type": "execute_result"
    }
   ],
   "source": [
    "# Score before tuning\n",
    "test_model_scores"
   ]
  },
  {
   "cell_type": "code",
   "execution_count": 213,
   "metadata": {},
   "outputs": [
    {
     "data": {
      "text/html": [
       "<div>\n",
       "<style scoped>\n",
       "    .dataframe tbody tr th:only-of-type {\n",
       "        vertical-align: middle;\n",
       "    }\n",
       "\n",
       "    .dataframe tbody tr th {\n",
       "        vertical-align: top;\n",
       "    }\n",
       "\n",
       "    .dataframe thead th {\n",
       "        text-align: right;\n",
       "    }\n",
       "</style>\n",
       "<table border=\"1\" class=\"dataframe\">\n",
       "  <thead>\n",
       "    <tr style=\"text-align: right;\">\n",
       "      <th></th>\n",
       "      <th>MAE</th>\n",
       "      <th>MAPE</th>\n",
       "      <th>R2</th>\n",
       "    </tr>\n",
       "  </thead>\n",
       "  <tbody>\n",
       "    <tr>\n",
       "      <th>XGB</th>\n",
       "      <td>26.137123</td>\n",
       "      <td>0.349651</td>\n",
       "      <td>0.927165</td>\n",
       "    </tr>\n",
       "  </tbody>\n",
       "</table>\n",
       "</div>"
      ],
      "text/plain": [
       "           MAE      MAPE        R2\n",
       "XGB  26.137123  0.349651  0.927165"
      ]
     },
     "execution_count": 213,
     "metadata": {},
     "output_type": "execute_result"
    }
   ],
   "source": [
    "# Score after tuning\n",
    "score_after_tuning"
   ]
  },
  {
   "cell_type": "code",
   "execution_count": 214,
   "metadata": {},
   "outputs": [
    {
     "name": "stdout",
     "output_type": "stream",
     "text": [
      "MAE Difference Percentage    : 8.641803809949348\n",
      "MAPE Difference Percentage   : 17.541099338057116\n",
      "R2 Difference Percentage     : 0.8296215618670515\n"
     ]
    }
   ],
   "source": [
    "# Evaluation metrics difference in percentage\n",
    "print('MAE Difference Percentage    :', ((test_model_scores.loc['XGB']['MAE'] - score_after_tuning.loc['XGB']['MAE']) / test_model_scores.loc['XGB']['MAE'])*100)\n",
    "print('MAPE Difference Percentage   :', ((test_model_scores.loc['XGB']['MAPE'] - score_after_tuning.loc['XGB']['MAPE']) / test_model_scores.loc['XGB']['MAPE'])*100)\n",
    "print('R2 Difference Percentage     :', ((score_after_tuning.loc['XGB']['R2'] - test_model_scores.loc['XGB']['R2']) / test_model_scores.loc['XGB']['R2']) * 100)"
   ]
  },
  {
   "cell_type": "code",
   "execution_count": 215,
   "metadata": {},
   "outputs": [
    {
     "data": {
      "image/png": "[encoded data removed]",
      "text/plain": [
       "<Figure size 1400x800 with 2 Axes>"
      ]
     },
     "metadata": {},
     "output_type": "display_data"
    }
   ],
   "source": [
    "# Scatterplot of original vs tuned\n",
    "# Create a figure with two subplots\n",
    "fig, axes = plt.subplots(1, 2, figsize=(14, 8), sharey=True)\n",
    "\n",
    "# Define the colors\n",
    "point_color = 'yellow'\n",
    "edge_color = 'grey'\n",
    "\n",
    "# Plot the first scatter plot on the first axis with yellow points and brown edges\n",
    "sns.scatterplot(ax=axes[0], x=y_test, y=y_pred_test, color=point_color, edgecolor=edge_color)\n",
    "axes[0].set_title('Actual vs. Test Count')\n",
    "axes[0].set_xlabel('Actual Count')\n",
    "axes[0].set_ylabel('Predicted Count')\n",
    "\n",
    "# Plot the second scatter plot on the second axis with yellow points and brown edges\n",
    "sns.scatterplot(ax=axes[1], x=y_test, y=y_pred_tune, color=point_color, edgecolor=edge_color)\n",
    "axes[1].set_title('Actual vs. Tuned Count')\n",
    "axes[1].set_xlabel('Actual Count')\n",
    "axes[1].set_ylabel('Predicted Count')\n",
    "\n",
    "# Adjust layout to prevent overlap\n",
    "plt.tight_layout()\n",
    "\n",
    "# Display the combined plot\n",
    "plt.show()"
   ]
  },
  {
   "cell_type": "markdown",
   "metadata": {},
   "source": [
    "### **4.10. Feature Importance**"
   ]
  },
  {
   "cell_type": "code",
   "execution_count": 216,
   "metadata": {},
   "outputs": [
    {
     "data": {
      "text/plain": [
       "(9448, 22)"
      ]
     },
     "execution_count": 216,
     "metadata": {},
     "output_type": "execute_result"
    }
   ],
   "source": [
    "# Plot feature importances\n",
    "xgbtuning = random_search_xgb.best_estimator_\n",
    "\n",
    "# xgb_tuning[1].predict(X_train)\n",
    "xgbtuning[0].transform(X_train).shape"
   ]
  },
  {
   "cell_type": "code",
   "execution_count": 217,
   "metadata": {},
   "outputs": [
    {
     "data": {
      "text/plain": [
       "['weather1',\n",
       " 'weather2',\n",
       " 'weather3',\n",
       " 'weather4',\n",
       " 'holiday0',\n",
       " 'holiday1',\n",
       " 'season1',\n",
       " 'season2',\n",
       " 'season3',\n",
       " 'season4',\n",
       " 'year2011',\n",
       " 'year2012',\n",
       " 'dayofweek0',\n",
       " 'dayofweek1',\n",
       " 'dayofweek2',\n",
       " 'month0',\n",
       " 'month1',\n",
       " 'month2',\n",
       " 'month3',\n",
       " 'humidity',\n",
       " 'temperature',\n",
       " 'hour']"
      ]
     },
     "execution_count": 217,
     "metadata": {},
     "output_type": "execute_result"
    }
   ],
   "source": [
    "features = list(transformer.get_feature_names_out())\n",
    "list_features = []\n",
    "\n",
    "for feature in features:\n",
    "    list_features.append(''.join(feature.split('_')[2:]))\n",
    "\n",
    "list_features "
   ]
  },
  {
   "cell_type": "code",
   "execution_count": 218,
   "metadata": {},
   "outputs": [
    {
     "data": {
      "text/plain": [
       "array([0.01786931, 0.00929718, 0.09068718, 0.00046402, 0.03800873,\n",
       "       0.        , 0.09767079, 0.01022251, 0.01324356, 0.07102797,\n",
       "       0.1110974 , 0.        , 0.08261217, 0.05198755, 0.05485355,\n",
       "       0.00992619, 0.01841315, 0.00860308, 0.01145271, 0.01804663,\n",
       "       0.06453367, 0.2199826 ], dtype=float32)"
      ]
     },
     "execution_count": 218,
     "metadata": {},
     "output_type": "execute_result"
    }
   ],
   "source": [
    "imp = xgbtuning[-1].feature_importances_\n",
    "imp"
   ]
  },
  {
   "cell_type": "code",
   "execution_count": 219,
   "metadata": {},
   "outputs": [
    {
     "data": {
      "text/html": [
       "<div>\n",
       "<style scoped>\n",
       "    .dataframe tbody tr th:only-of-type {\n",
       "        vertical-align: middle;\n",
       "    }\n",
       "\n",
       "    .dataframe tbody tr th {\n",
       "        vertical-align: top;\n",
       "    }\n",
       "\n",
       "    .dataframe thead th {\n",
       "        text-align: right;\n",
       "    }\n",
       "</style>\n",
       "<table border=\"1\" class=\"dataframe\">\n",
       "  <thead>\n",
       "    <tr style=\"text-align: right;\">\n",
       "      <th></th>\n",
       "      <th>Importance</th>\n",
       "      <th>Features</th>\n",
       "    </tr>\n",
       "  </thead>\n",
       "  <tbody>\n",
       "    <tr>\n",
       "      <th>21</th>\n",
       "      <td>0.219983</td>\n",
       "      <td>hour</td>\n",
       "    </tr>\n",
       "    <tr>\n",
       "      <th>10</th>\n",
       "      <td>0.111097</td>\n",
       "      <td>year2011</td>\n",
       "    </tr>\n",
       "    <tr>\n",
       "      <th>6</th>\n",
       "      <td>0.097671</td>\n",
       "      <td>season1</td>\n",
       "    </tr>\n",
       "    <tr>\n",
       "      <th>2</th>\n",
       "      <td>0.090687</td>\n",
       "      <td>weather3</td>\n",
       "    </tr>\n",
       "    <tr>\n",
       "      <th>12</th>\n",
       "      <td>0.082612</td>\n",
       "      <td>dayofweek0</td>\n",
       "    </tr>\n",
       "    <tr>\n",
       "      <th>9</th>\n",
       "      <td>0.071028</td>\n",
       "      <td>season4</td>\n",
       "    </tr>\n",
       "    <tr>\n",
       "      <th>20</th>\n",
       "      <td>0.064534</td>\n",
       "      <td>temperature</td>\n",
       "    </tr>\n",
       "    <tr>\n",
       "      <th>14</th>\n",
       "      <td>0.054854</td>\n",
       "      <td>dayofweek2</td>\n",
       "    </tr>\n",
       "    <tr>\n",
       "      <th>13</th>\n",
       "      <td>0.051988</td>\n",
       "      <td>dayofweek1</td>\n",
       "    </tr>\n",
       "    <tr>\n",
       "      <th>4</th>\n",
       "      <td>0.038009</td>\n",
       "      <td>holiday0</td>\n",
       "    </tr>\n",
       "    <tr>\n",
       "      <th>16</th>\n",
       "      <td>0.018413</td>\n",
       "      <td>month1</td>\n",
       "    </tr>\n",
       "    <tr>\n",
       "      <th>19</th>\n",
       "      <td>0.018047</td>\n",
       "      <td>humidity</td>\n",
       "    </tr>\n",
       "    <tr>\n",
       "      <th>0</th>\n",
       "      <td>0.017869</td>\n",
       "      <td>weather1</td>\n",
       "    </tr>\n",
       "    <tr>\n",
       "      <th>8</th>\n",
       "      <td>0.013244</td>\n",
       "      <td>season3</td>\n",
       "    </tr>\n",
       "    <tr>\n",
       "      <th>18</th>\n",
       "      <td>0.011453</td>\n",
       "      <td>month3</td>\n",
       "    </tr>\n",
       "    <tr>\n",
       "      <th>7</th>\n",
       "      <td>0.010223</td>\n",
       "      <td>season2</td>\n",
       "    </tr>\n",
       "    <tr>\n",
       "      <th>15</th>\n",
       "      <td>0.009926</td>\n",
       "      <td>month0</td>\n",
       "    </tr>\n",
       "    <tr>\n",
       "      <th>1</th>\n",
       "      <td>0.009297</td>\n",
       "      <td>weather2</td>\n",
       "    </tr>\n",
       "    <tr>\n",
       "      <th>17</th>\n",
       "      <td>0.008603</td>\n",
       "      <td>month2</td>\n",
       "    </tr>\n",
       "    <tr>\n",
       "      <th>3</th>\n",
       "      <td>0.000464</td>\n",
       "      <td>weather4</td>\n",
       "    </tr>\n",
       "    <tr>\n",
       "      <th>5</th>\n",
       "      <td>0.000000</td>\n",
       "      <td>holiday1</td>\n",
       "    </tr>\n",
       "    <tr>\n",
       "      <th>11</th>\n",
       "      <td>0.000000</td>\n",
       "      <td>year2012</td>\n",
       "    </tr>\n",
       "  </tbody>\n",
       "</table>\n",
       "</div>"
      ],
      "text/plain": [
       "    Importance     Features\n",
       "21    0.219983         hour\n",
       "10    0.111097     year2011\n",
       "6     0.097671      season1\n",
       "2     0.090687     weather3\n",
       "12    0.082612   dayofweek0\n",
       "9     0.071028      season4\n",
       "20    0.064534  temperature\n",
       "14    0.054854   dayofweek2\n",
       "13    0.051988   dayofweek1\n",
       "4     0.038009     holiday0\n",
       "16    0.018413       month1\n",
       "19    0.018047     humidity\n",
       "0     0.017869     weather1\n",
       "8     0.013244      season3\n",
       "18    0.011453       month3\n",
       "7     0.010223      season2\n",
       "15    0.009926       month0\n",
       "1     0.009297     weather2\n",
       "17    0.008603       month2\n",
       "3     0.000464     weather4\n",
       "5     0.000000     holiday1\n",
       "11    0.000000     year2012"
      ]
     },
     "execution_count": 219,
     "metadata": {},
     "output_type": "execute_result"
    }
   ],
   "source": [
    "feature_imp = pd.DataFrame({\n",
    "    'Importance':imp,\n",
    "    'Features':list_features\n",
    "}).sort_values(by='Importance',ascending=False)\n",
    "feature_imp"
   ]
  },
  {
   "cell_type": "code",
   "execution_count": 220,
   "metadata": {},
   "outputs": [
    {
     "data": {
      "text/plain": [
       "<Axes: xlabel='Importance', ylabel='Features'>"
      ]
     },
     "execution_count": 220,
     "metadata": {},
     "output_type": "execute_result"
    },
    {
     "data": {
      "image/png": "[encoded data removed]",
      "text/plain": [
       "<Figure size 1000x600 with 1 Axes>"
      ]
     },
     "metadata": {},
     "output_type": "display_data"
    }
   ],
   "source": [
    "# Visualization\n",
    "plt.figure(figsize=(10,6))\n",
    "sns.set_theme(style='whitegrid')\n",
    "sns.barplot(data=feature_imp,x='Importance',y='Features',orient='h',palette='Spectral')"
   ]
  },
  {
   "cell_type": "markdown",
   "metadata": {},
   "source": [
    "---\n",
    "## **5. Deployment**"
   ]
  },
  {
   "cell_type": "markdown",
   "metadata": {},
   "source": [
    "### **5.1. Save Model**"
   ]
  },
  {
   "cell_type": "code",
   "execution_count": 221,
   "metadata": {},
   "outputs": [],
   "source": [
    "# Import Model\n",
    "import pickle"
   ]
  },
  {
   "cell_type": "code",
   "execution_count": 222,
   "metadata": {},
   "outputs": [],
   "source": [
    "# Save\n",
    "pickle.dump(best_model, open('bike_model.pkl', 'wb'))"
   ]
  },
  {
   "cell_type": "code",
   "execution_count": 223,
   "metadata": {},
   "outputs": [],
   "source": [
    "# Load Model\n",
    "loaded_model = pickle.load(open('bike_model.pkl', 'rb'))"
   ]
  },
  {
   "cell_type": "code",
   "execution_count": 224,
   "metadata": {},
   "outputs": [
    {
     "name": "stdout",
     "output_type": "stream",
     "text": [
      "MAE: 26.13712323877615\n"
     ]
    }
   ],
   "source": [
    "# Calculate MAE\n",
    "mae = mean_absolute_error(y_test, y_pred_tune)\n",
    "print(f'MAE: {mae}')"
   ]
  },
  {
   "cell_type": "code",
   "execution_count": 225,
   "metadata": {},
   "outputs": [
    {
     "name": "stdout",
     "output_type": "stream",
     "text": [
      "MAPE: 0.34965103615072546\n"
     ]
    }
   ],
   "source": [
    "# Calculate MAPE\n",
    "mape = mean_absolute_percentage_error(y_test, y_pred_tune)\n",
    "print(f'MAPE: {mape}')"
   ]
  },
  {
   "cell_type": "code",
   "execution_count": 226,
   "metadata": {},
   "outputs": [
    {
     "name": "stdout",
     "output_type": "stream",
     "text": [
      "R²: 0.9271646380067463\n"
     ]
    }
   ],
   "source": [
    "# Calculate R²\n",
    "r2 = r2_score(y_test, y_pred_tune)\n",
    "print(f'R²: {r2}')"
   ]
  },
  {
   "cell_type": "code",
   "execution_count": 235,
   "metadata": {},
   "outputs": [
    {
     "name": "stdout",
     "output_type": "stream",
     "text": [
      "1.26.4\n",
      "1.2.2\n"
     ]
    }
   ],
   "source": [
    "import numpy as np\n",
    "import sklearn\n",
    "\n",
    "print(np.__version__)\n",
    "print(sklearn.__version__)"
   ]
  },
  {
   "cell_type": "markdown",
   "metadata": {},
   "source": [
    "### **5.2. Prediction**"
   ]
  },
  {
   "cell_type": "markdown",
   "metadata": {},
   "source": [
    "#### **5.2.1. Predict Existing Data**"
   ]
  },
  {
   "cell_type": "code",
   "execution_count": 236,
   "metadata": {},
   "outputs": [
    {
     "data": {
      "text/html": [
       "<div>\n",
       "<style scoped>\n",
       "    .dataframe tbody tr th:only-of-type {\n",
       "        vertical-align: middle;\n",
       "    }\n",
       "\n",
       "    .dataframe tbody tr th {\n",
       "        vertical-align: top;\n",
       "    }\n",
       "\n",
       "    .dataframe thead th {\n",
       "        text-align: right;\n",
       "    }\n",
       "</style>\n",
       "<table border=\"1\" class=\"dataframe\">\n",
       "  <thead>\n",
       "    <tr style=\"text-align: right;\">\n",
       "      <th></th>\n",
       "      <th>humidity</th>\n",
       "      <th>weather</th>\n",
       "      <th>holiday</th>\n",
       "      <th>season</th>\n",
       "      <th>temperature</th>\n",
       "      <th>hour</th>\n",
       "      <th>dayofweek</th>\n",
       "      <th>month</th>\n",
       "      <th>year</th>\n",
       "    </tr>\n",
       "  </thead>\n",
       "  <tbody>\n",
       "    <tr>\n",
       "      <th>0</th>\n",
       "      <td>0.71</td>\n",
       "      <td>1</td>\n",
       "      <td>0</td>\n",
       "      <td>1</td>\n",
       "      <td>0.62</td>\n",
       "      <td>19</td>\n",
       "      <td>3</td>\n",
       "      <td>3</td>\n",
       "      <td>2012</td>\n",
       "    </tr>\n",
       "    <tr>\n",
       "      <th>1</th>\n",
       "      <td>0.39</td>\n",
       "      <td>3</td>\n",
       "      <td>0</td>\n",
       "      <td>4</td>\n",
       "      <td>0.42</td>\n",
       "      <td>13</td>\n",
       "      <td>2</td>\n",
       "      <td>4</td>\n",
       "      <td>2011</td>\n",
       "    </tr>\n",
       "  </tbody>\n",
       "</table>\n",
       "</div>"
      ],
      "text/plain": [
       "  humidity weather holiday season temperature hour dayofweek month  year\n",
       "0     0.71       1       0      1        0.62   19         3     3  2012\n",
       "1     0.39       3       0      4        0.42   13         2     4  2011"
      ]
     },
     "execution_count": 236,
     "metadata": {},
     "output_type": "execute_result"
    }
   ],
   "source": [
    "new_test_data = pd.DataFrame({\n",
    "    'humidity': ['0.71','0.39'],\n",
    "    'weather': ['1','3'],\n",
    "    'holiday': ['0','0'],\n",
    "    'season': ['1','4'],\n",
    "    'temperature': ['0.62','0.42'],\n",
    "    'hour': ['19','13'],\n",
    "    'dayofweek': ['3','2'],\n",
    "    'month': ['3','4'],\n",
    "    'year': ['2012','2011'],\n",
    "})\n",
    "\n",
    "new_test_data"
   ]
  },
  {
   "cell_type": "code",
   "execution_count": 227,
   "metadata": {},
   "outputs": [
    {
     "data": {
      "text/html": [
       "<div>\n",
       "<style scoped>\n",
       "    .dataframe tbody tr th:only-of-type {\n",
       "        vertical-align: middle;\n",
       "    }\n",
       "\n",
       "    .dataframe tbody tr th {\n",
       "        vertical-align: top;\n",
       "    }\n",
       "\n",
       "    .dataframe thead th {\n",
       "        text-align: right;\n",
       "    }\n",
       "</style>\n",
       "<table border=\"1\" class=\"dataframe\">\n",
       "  <thead>\n",
       "    <tr style=\"text-align: right;\">\n",
       "      <th></th>\n",
       "      <th>humidity</th>\n",
       "      <th>weather</th>\n",
       "      <th>holiday</th>\n",
       "      <th>season</th>\n",
       "      <th>temperature</th>\n",
       "      <th>hour</th>\n",
       "      <th>dayofweek</th>\n",
       "      <th>month</th>\n",
       "      <th>year</th>\n",
       "    </tr>\n",
       "  </thead>\n",
       "  <tbody>\n",
       "    <tr>\n",
       "      <th>500</th>\n",
       "      <td>0.74</td>\n",
       "      <td>1</td>\n",
       "      <td>0</td>\n",
       "      <td>3</td>\n",
       "      <td>0.74</td>\n",
       "      <td>21</td>\n",
       "      <td>1</td>\n",
       "      <td>7</td>\n",
       "      <td>2011</td>\n",
       "    </tr>\n",
       "  </tbody>\n",
       "</table>\n",
       "</div>"
      ],
      "text/plain": [
       "     humidity weather holiday season  temperature  hour dayofweek month  year\n",
       "500      0.74       1       0      3         0.74    21         1     7  2011"
      ]
     },
     "execution_count": 227,
     "metadata": {},
     "output_type": "execute_result"
    }
   ],
   "source": [
    "# Predict Jumlah Sepeda -> Selasa, 4 September 2012 Jam 04.00\n",
    "X_test.loc[[500]]"
   ]
  },
  {
   "cell_type": "code",
   "execution_count": 228,
   "metadata": {},
   "outputs": [
    {
     "data": {
      "text/plain": [
       "241"
      ]
     },
     "execution_count": 228,
     "metadata": {},
     "output_type": "execute_result"
    }
   ],
   "source": [
    "# Aktualnya 8 Permintaan Sepeda\n",
    "y_test.loc[500]"
   ]
  },
  {
   "cell_type": "code",
   "execution_count": 229,
   "metadata": {},
   "outputs": [
    {
     "data": {
      "text/plain": [
       "225"
      ]
     },
     "execution_count": 229,
     "metadata": {},
     "output_type": "execute_result"
    }
   ],
   "source": [
    "round(loaded_model.predict(X_test.loc[[500]])[0])\n",
    "# Pada Hari Selasa, 4 September 2012 Jam 04.00 Diprediksi ada 8 Permintaan Sepeda (Sama Dengan Aktual)"
   ]
  },
  {
   "cell_type": "markdown",
   "metadata": {},
   "source": [
    "#### **5.2.2. Predict New Data**"
   ]
  },
  {
   "cell_type": "code",
   "execution_count": 230,
   "metadata": {},
   "outputs": [
    {
     "data": {
      "text/html": [
       "<div>\n",
       "<style scoped>\n",
       "    .dataframe tbody tr th:only-of-type {\n",
       "        vertical-align: middle;\n",
       "    }\n",
       "\n",
       "    .dataframe tbody tr th {\n",
       "        vertical-align: top;\n",
       "    }\n",
       "\n",
       "    .dataframe thead th {\n",
       "        text-align: right;\n",
       "    }\n",
       "</style>\n",
       "<table border=\"1\" class=\"dataframe\">\n",
       "  <thead>\n",
       "    <tr style=\"text-align: right;\">\n",
       "      <th></th>\n",
       "      <th>humidity</th>\n",
       "      <th>weather</th>\n",
       "      <th>holiday</th>\n",
       "      <th>season</th>\n",
       "      <th>temperature</th>\n",
       "      <th>hour</th>\n",
       "      <th>day</th>\n",
       "      <th>month</th>\n",
       "      <th>year</th>\n",
       "      <th>dayofweek</th>\n",
       "    </tr>\n",
       "  </thead>\n",
       "  <tbody>\n",
       "    <tr>\n",
       "      <th>0</th>\n",
       "      <td>0.71</td>\n",
       "      <td>1</td>\n",
       "      <td>0</td>\n",
       "      <td>3</td>\n",
       "      <td>0.62</td>\n",
       "      <td>8</td>\n",
       "      <td>1</td>\n",
       "      <td>8</td>\n",
       "      <td>2012</td>\n",
       "      <td>1</td>\n",
       "    </tr>\n",
       "  </tbody>\n",
       "</table>\n",
       "</div>"
      ],
      "text/plain": [
       "   humidity  weather  holiday  season  temperature  hour  day  month  year  \\\n",
       "0      0.71        1        0       3         0.62     8    1      8  2012   \n",
       "\n",
       "   dayofweek  \n",
       "0          1  "
      ]
     },
     "execution_count": 230,
     "metadata": {},
     "output_type": "execute_result"
    }
   ],
   "source": [
    "new_data = pd.DataFrame({\n",
    "    'humidity' : 0.71,\n",
    "    'weather' : 1,\n",
    "    'holiday' : 0,\n",
    "    'season' : 3,\n",
    "    'temperature' : 0.62,\n",
    "    'hour' : 8,\n",
    "    'day' : 1,\n",
    "    'month' : 8,\n",
    "    'year' : 2012,\n",
    "    'dayofweek' : 1\n",
    "}, index=[0])\n",
    "\n",
    "new_data \n",
    "# Predict Jumlah Sepeda -> Selasa, Agustus 2012 Jam 08.00"
   ]
  },
  {
   "cell_type": "code",
   "execution_count": 231,
   "metadata": {},
   "outputs": [
    {
     "data": {
      "text/plain": [
       "609"
      ]
     },
     "execution_count": 231,
     "metadata": {},
     "output_type": "execute_result"
    }
   ],
   "source": [
    "round(loaded_model.predict(new_data)[0])"
   ]
  },
  {
   "cell_type": "markdown",
   "metadata": {},
   "source": [
    "#### **5.2.3. Predict Oversupply/Undersupply**"
   ]
  },
  {
   "cell_type": "code",
   "execution_count": 232,
   "metadata": {},
   "outputs": [
    {
     "data": {
      "text/html": [
       "<div>\n",
       "<style scoped>\n",
       "    .dataframe tbody tr th:only-of-type {\n",
       "        vertical-align: middle;\n",
       "    }\n",
       "\n",
       "    .dataframe tbody tr th {\n",
       "        vertical-align: top;\n",
       "    }\n",
       "\n",
       "    .dataframe thead th {\n",
       "        text-align: right;\n",
       "    }\n",
       "</style>\n",
       "<table border=\"1\" class=\"dataframe\">\n",
       "  <thead>\n",
       "    <tr style=\"text-align: right;\">\n",
       "      <th></th>\n",
       "      <th>Time Point</th>\n",
       "      <th>Predicted Demand</th>\n",
       "      <th>Supply</th>\n",
       "      <th>Status</th>\n",
       "    </tr>\n",
       "  </thead>\n",
       "  <tbody>\n",
       "    <tr>\n",
       "      <th>0</th>\n",
       "      <td>0</td>\n",
       "      <td>254.361420</td>\n",
       "      <td>150</td>\n",
       "      <td>Undersupply</td>\n",
       "    </tr>\n",
       "    <tr>\n",
       "      <th>1</th>\n",
       "      <td>1</td>\n",
       "      <td>49.350899</td>\n",
       "      <td>150</td>\n",
       "      <td>Oversupply</td>\n",
       "    </tr>\n",
       "    <tr>\n",
       "      <th>2</th>\n",
       "      <td>2</td>\n",
       "      <td>122.810478</td>\n",
       "      <td>150</td>\n",
       "      <td>Oversupply</td>\n",
       "    </tr>\n",
       "    <tr>\n",
       "      <th>3</th>\n",
       "      <td>3</td>\n",
       "      <td>174.355103</td>\n",
       "      <td>150</td>\n",
       "      <td>Undersupply</td>\n",
       "    </tr>\n",
       "    <tr>\n",
       "      <th>4</th>\n",
       "      <td>4</td>\n",
       "      <td>165.370895</td>\n",
       "      <td>150</td>\n",
       "      <td>Undersupply</td>\n",
       "    </tr>\n",
       "    <tr>\n",
       "      <th>...</th>\n",
       "      <td>...</td>\n",
       "      <td>...</td>\n",
       "      <td>...</td>\n",
       "      <td>...</td>\n",
       "    </tr>\n",
       "    <tr>\n",
       "      <th>2358</th>\n",
       "      <td>2358</td>\n",
       "      <td>101.059090</td>\n",
       "      <td>150</td>\n",
       "      <td>Oversupply</td>\n",
       "    </tr>\n",
       "    <tr>\n",
       "      <th>2359</th>\n",
       "      <td>2359</td>\n",
       "      <td>427.835052</td>\n",
       "      <td>150</td>\n",
       "      <td>Undersupply</td>\n",
       "    </tr>\n",
       "    <tr>\n",
       "      <th>2360</th>\n",
       "      <td>2360</td>\n",
       "      <td>248.051758</td>\n",
       "      <td>150</td>\n",
       "      <td>Undersupply</td>\n",
       "    </tr>\n",
       "    <tr>\n",
       "      <th>2361</th>\n",
       "      <td>2361</td>\n",
       "      <td>78.366066</td>\n",
       "      <td>150</td>\n",
       "      <td>Oversupply</td>\n",
       "    </tr>\n",
       "    <tr>\n",
       "      <th>2362</th>\n",
       "      <td>2362</td>\n",
       "      <td>106.760231</td>\n",
       "      <td>150</td>\n",
       "      <td>Oversupply</td>\n",
       "    </tr>\n",
       "  </tbody>\n",
       "</table>\n",
       "<p>2363 rows × 4 columns</p>\n",
       "</div>"
      ],
      "text/plain": [
       "      Time Point  Predicted Demand  Supply       Status\n",
       "0              0        254.361420     150  Undersupply\n",
       "1              1         49.350899     150   Oversupply\n",
       "2              2        122.810478     150   Oversupply\n",
       "3              3        174.355103     150  Undersupply\n",
       "4              4        165.370895     150  Undersupply\n",
       "...          ...               ...     ...          ...\n",
       "2358        2358        101.059090     150   Oversupply\n",
       "2359        2359        427.835052     150  Undersupply\n",
       "2360        2360        248.051758     150  Undersupply\n",
       "2361        2361         78.366066     150   Oversupply\n",
       "2362        2362        106.760231     150   Oversupply\n",
       "\n",
       "[2363 rows x 4 columns]"
      ]
     },
     "execution_count": 232,
     "metadata": {},
     "output_type": "execute_result"
    }
   ],
   "source": [
    "# Predict the demand\n",
    "predicted_demand = loaded_model.predict(X_test)\n",
    "\n",
    "# Fixed supply of bikes\n",
    "fixed_supply = 150\n",
    "\n",
    "# Calculate the difference between supply and predicted demand\n",
    "supply_diff = fixed_supply - predicted_demand\n",
    "\n",
    "# Determine oversupply or undersupply\n",
    "supply_status = np.where(supply_diff < 0, 'Undersupply', \n",
    "                         np.where(supply_diff > 0, 'Oversupply', 'Balanced'))\n",
    "\n",
    "# Create a list of dictionaries to store the detailed results\n",
    "data = []\n",
    "\n",
    "for i in range(len(supply_status)):\n",
    "    data.append({\n",
    "        \"Time Point\": i,\n",
    "        \"Predicted Demand\": predicted_demand[i],\n",
    "        \"Supply\": fixed_supply,\n",
    "        \"Status\": supply_status[i]\n",
    "    })\n",
    "\n",
    "# Convert the list into a DataFrame\n",
    "df = pd.DataFrame(data)\n",
    "df"
   ]
  },
  {
   "cell_type": "code",
   "execution_count": 233,
   "metadata": {},
   "outputs": [
    {
     "name": "stdout",
     "output_type": "stream",
     "text": [
      "Oversupply Count: 1192\n",
      "Undersupply Count: 1171\n",
      "Recommendation: Reduce the number of bikes\n"
     ]
    }
   ],
   "source": [
    "# Count the occurrences of oversupply and undersupply\n",
    "oversupply_count = np.sum(supply_status == 'Oversupply')\n",
    "undersupply_count = np.sum(supply_status == 'Undersupply')\n",
    "\n",
    "# Determine which one is bigger\n",
    "if oversupply_count > undersupply_count:\n",
    "    recommendation = 'Reduce the number of bikes'\n",
    "else:\n",
    "    recommendation = 'Increase the number of bikes'\n",
    "\n",
    "# Print the results\n",
    "print(f'Oversupply Count: {oversupply_count}')\n",
    "print(f'Undersupply Count: {undersupply_count}')\n",
    "print(f'Recommendation: {recommendation}')"
   ]
  },
  {
   "cell_type": "markdown",
   "metadata": {},
   "source": [
    "---\n",
    "## **6. Final Thoughts**"
   ]
  },
  {
   "cell_type": "markdown",
   "metadata": {},
   "source": [
    "### **6.1. Conclusion**"
   ]
  },
  {
   "cell_type": "markdown",
   "metadata": {},
   "source": [
    "*This part is not mandatory, but I believe providing a brief overview will establish a baseline context and enhance understanding.*"
   ]
  },
  {
   "cell_type": "markdown",
   "metadata": {},
   "source": [
    "### **6.2. Recommendation**"
   ]
  },
  {
   "cell_type": "markdown",
   "metadata": {},
   "source": [
    "*This part is not mandatory, but I believe providing a brief overview will establish a baseline context and enhance understanding.*"
   ]
  },
  {
   "cell_type": "markdown",
   "metadata": {},
   "source": [
    "### **6.3. Limitations**"
   ]
  },
  {
   "cell_type": "markdown",
   "metadata": {},
   "source": [
    "*This part is not mandatory, but I believe providing a brief overview will establish a baseline context and enhance understanding.*"
   ]
  }
 ],
 "metadata": {
  "kernelspec": {
   "display_name": "base",
   "language": "python",
   "name": "python3"
  },
  "language_info": {
   "codemirror_mode": {
    "name": "ipython",
    "version": 3
   },
   "file_extension": ".py",
   "mimetype": "text/x-python",
   "name": "python",
   "nbconvert_exporter": "python",
   "pygments_lexer": "ipython3",
   "version": "3.11.7"
  }
 },
 "nbformat": 4,
 "nbformat_minor": 2
}
